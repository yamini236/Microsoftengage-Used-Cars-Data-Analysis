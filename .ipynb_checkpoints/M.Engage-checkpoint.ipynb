{
 "cells": [
  {
   "cell_type": "code",
   "execution_count": 27,
   "id": "d2e3fea3",
   "metadata": {},
   "outputs": [],
   "source": [
    "import os\n",
    "import matplotlib\n",
    "import matplotlib.pyplot as plt\n",
    "import matplotlib.style as style\n",
    "import numpy as np\n",
    "import pandas as pd\n",
    "import plotly.express as px\n",
    "import seaborn as sns\n",
    "from scipy import stats\n",
    "import warnings\n",
    "import copy\n",
    "\n",
    "from lightgbm import LGBMClassifier\n",
    "from sklearn import metrics\n",
    "from sklearn import model_selection\n",
    "from sklearn import preprocessing\n",
    "from sklearn.datasets import make_classification\n",
    "from sklearn.ensemble import ExtraTreesRegressor\n",
    "from sklearn.ensemble import GradientBoostingClassifier\n",
    "from sklearn.ensemble import GradientBoostingRegressor\n",
    "from sklearn.ensemble import RandomForestClassifier\n",
    "from sklearn.ensemble import RandomForestRegressor\n",
    "from sklearn.linear_model import LogisticRegression\n",
    "from sklearn.linear_model import Ridge\n",
    "from sklearn.metrics import accuracy_score\n",
    "from sklearn.metrics import classification_report, confusion_matrix\n",
    "from sklearn.metrics import mean_squared_error\n",
    "from sklearn.metrics import mean_squared_error, mean_absolute_error\n",
    "from sklearn.metrics import plot_confusion_matrix\n",
    "from sklearn.model_selection import cross_val_score\n",
    "from sklearn.model_selection import train_test_split\n",
    "from sklearn.naive_bayes import GaussianNB\n",
    "from sklearn.neighbors import KNeighborsClassifier\n",
    "from sklearn.neighbors import KNeighborsRegressor\n",
    "from sklearn.preprocessing import StandardScaler, Normalizer\n",
    "from sklearn.tree import DecisionTreeClassifier\n",
    "from sklearn.tree import DecisionTreeRegressor\n",
    "from xgboost import XGBClassifier\n",
    "from xgboost.sklearn import XGBRegressor\n",
    "from catboost import CatBoostRegressor\n",
    "from sklearn.ensemble import GradientBoostingRegressor,AdaBoostRegressor,BaggingRegressor, RandomForestRegressor\n",
    "from sklearn.neural_network import MLPRegressor\n",
    "import xgboost as xgb"
   ]
  },
  {
   "cell_type": "code",
   "execution_count": 28,
   "id": "830bd372",
   "metadata": {},
   "outputs": [],
   "source": [
    "from powerbiclient import Report, models"
   ]
  },
  {
   "cell_type": "code",
   "execution_count": null,
   "id": "4c763f03",
   "metadata": {},
   "outputs": [],
   "source": [
    "from powerbiclient.authentication import DeviceCodeLoginAuthentication"
   ]
  },
  {
   "cell_type": "code",
   "execution_count": null,
   "id": "2ce6aece",
   "metadata": {},
   "outputs": [],
   "source": [
    "device_auth = DeviceCodeLoginAuthentication()"
   ]
  },
  {
   "cell_type": "code",
   "execution_count": null,
   "id": "759dd1fd",
   "metadata": {},
   "outputs": [],
   "source": [
    "embed_url = \"https://app.powerbi.com/groups/me/reports/1be2156a-1ef6-4d3e-9ec2-9c03f69c745a/ReportSectionb3d88c09a3a08e94e414\""
   ]
  },
  {
   "cell_type": "code",
   "execution_count": null,
   "id": "2c0f3c25",
   "metadata": {},
   "outputs": [],
   "source": [
    "report = Report(embed_url=embed_url, auth=device_auth)"
   ]
  },
  {
   "cell_type": "code",
   "execution_count": null,
   "id": "14de24bf",
   "metadata": {},
   "outputs": [],
   "source": [
    "report"
   ]
  },
  {
   "cell_type": "code",
   "execution_count": null,
   "id": "a91ab46e",
   "metadata": {},
   "outputs": [],
   "source": [
    "#importing test datasets and train datasets\n",
    "data = pd.read_csv('train-data.csv')\n",
    "test = pd.read_csv('test-data.csv')\n",
    "\n"
   ]
  },
  {
   "cell_type": "markdown",
   "id": "66bf9e2a",
   "metadata": {},
   "source": [
    "# Data Preprocessing"
   ]
  },
  {
   "cell_type": "code",
   "execution_count": null,
   "id": "f0db4157",
   "metadata": {},
   "outputs": [],
   "source": [
    "#checking first five rows of each dataset\n",
    "test.head()\n"
   ]
  },
  {
   "cell_type": "code",
   "execution_count": null,
   "id": "9ae68f3b",
   "metadata": {},
   "outputs": [],
   "source": [
    "data.head()"
   ]
  },
  {
   "cell_type": "code",
   "execution_count": null,
   "id": "4657fa48",
   "metadata": {},
   "outputs": [],
   "source": [
    "#checking datatypes of each dataset\n",
    "data.dtypes"
   ]
  },
  {
   "cell_type": "code",
   "execution_count": null,
   "id": "4a68954e",
   "metadata": {},
   "outputs": [],
   "source": [
    "test.dtypes"
   ]
  },
  {
   "cell_type": "code",
   "execution_count": null,
   "id": "b26d2db6",
   "metadata": {},
   "outputs": [],
   "source": [
    "print(f\"Rows in dataset are : {data.shape[0]} \\nColumns in dataset are : {data.shape[1]}\")"
   ]
  },
  {
   "cell_type": "code",
   "execution_count": null,
   "id": "d67d9626",
   "metadata": {},
   "outputs": [],
   "source": [
    "print(f\"Rows in test dataset are : {test.shape[0]} \\nColumns in test dataset are : {test.shape[1]}\")"
   ]
  },
  {
   "cell_type": "code",
   "execution_count": null,
   "id": "8cf5f654",
   "metadata": {},
   "outputs": [],
   "source": [
    "#checking stats of each dataset(including max,min, std,etc...)\n",
    "data.describe()"
   ]
  },
  {
   "cell_type": "code",
   "execution_count": null,
   "id": "19627f60",
   "metadata": {},
   "outputs": [],
   "source": [
    "test.describe()"
   ]
  },
  {
   "cell_type": "code",
   "execution_count": null,
   "id": "456e2f17",
   "metadata": {},
   "outputs": [],
   "source": [
    "#checking for missing values in test datset\n",
    "data.isna().sum()"
   ]
  },
  {
   "cell_type": "code",
   "execution_count": null,
   "id": "ddbbd41a",
   "metadata": {},
   "outputs": [],
   "source": [
    "#dropping New_price as it contains large number of missing values\n",
    "data = data.drop('New_Price', axis=1)\n",
    "data = data.dropna(how='any')\n"
   ]
  },
  {
   "cell_type": "code",
   "execution_count": null,
   "id": "9e805ebf",
   "metadata": {},
   "outputs": [],
   "source": [
    "#checking for missing values in Name cloumn in both datasets\n",
    "listtrain = data['Name']\n",
    "listtest = test['Name']\n",
    "print(\"Missing values in first list:\", (set(listtest).difference(listtrain))) "
   ]
  },
  {
   "cell_type": "code",
   "execution_count": null,
   "id": "4b1084de",
   "metadata": {},
   "outputs": [],
   "source": [
    "data['Cars'] = data['Name'].str.split(\" \").str[0] + ' ' +data['Name'].str.split(\" \").str[1]\n",
    "test['Cars'] = test['Name'].str.split(\" \").str[0] + ' ' +test['Name'].str.split(\" \").str[1]"
   ]
  },
  {
   "cell_type": "code",
   "execution_count": null,
   "id": "e7885c01",
   "metadata": {},
   "outputs": [],
   "source": [
    "set(test['Cars']).issubset(set(data['Cars']))"
   ]
  },
  {
   "cell_type": "code",
   "execution_count": null,
   "id": "df255df4",
   "metadata": {},
   "outputs": [],
   "source": [
    "listtrain = data['Cars']\n",
    "listtest = test['Cars']\n",
    "print(\"Missing values in first list:\", (set(listtest).difference(listtrain))) "
   ]
  },
  {
   "cell_type": "code",
   "execution_count": null,
   "id": "c04d5239",
   "metadata": {},
   "outputs": [],
   "source": [
    "test.drop(test[test['Cars'].isin(['Toyota Land', 'Hindustan Motors', 'Fiat Abarth', 'Nissan 370Z', \n",
    "                                  'Isuzu MU', 'Bentley Flying', 'OpelCorsa 1.4Gsi'])].index, inplace = True)"
   ]
  },
  {
   "cell_type": "code",
   "execution_count": null,
   "id": "97fae992",
   "metadata": {},
   "outputs": [],
   "source": [
    "listtrain = data['Cars']\n",
    "listtest = test['Cars']\n",
    "print(\"Missing values in first list:\", (set(listtest).difference(listtrain))) "
   ]
  },
  {
   "cell_type": "code",
   "execution_count": null,
   "id": "934c6b3d",
   "metadata": {},
   "outputs": [],
   "source": [
    "#cleaning the dataset using replace function to achieve better accuracy of model\n",
    "data['Mileage'] = data['Mileage'].str.replace(' kmpl','')\n",
    "data['Mileage'] = data['Mileage'].str.replace(' km/kg','')\n",
    "data['Engine'] = data['Engine'].str.replace(' CC','')\n",
    "data['Power'] = data['Power'].str.replace('null bhp','112')\n",
    "data['Power'] = data['Power'].str.replace(' bhp','')"
   ]
  },
  {
   "cell_type": "code",
   "execution_count": null,
   "id": "4ca740d1",
   "metadata": {},
   "outputs": [],
   "source": [
    "data.isna().sum()"
   ]
  },
  {
   "cell_type": "code",
   "execution_count": null,
   "id": "27a8b617",
   "metadata": {},
   "outputs": [],
   "source": [
    "#converting following cloumns to float values\n",
    "data['Mileage'] = data['Mileage'].astype(float)\n",
    "data['Mileage'] = data['Mileage'].astype(float)\n",
    "data['Engine'] = data['Engine'].astype(float)\n",
    "data['Power'] = data['Power'].astype(float)\n"
   ]
  },
  {
   "cell_type": "code",
   "execution_count": null,
   "id": "a015542e",
   "metadata": {},
   "outputs": [],
   "source": [
    "data.isna().sum()"
   ]
  },
  {
   "cell_type": "code",
   "execution_count": null,
   "id": "0652bd0c",
   "metadata": {},
   "outputs": [],
   "source": [
    "#dropping extra values of test dataset\n",
    "test = test.drop('New_Price', axis=1)\n",
    "test = test.dropna(how='any')"
   ]
  },
  {
   "cell_type": "code",
   "execution_count": null,
   "id": "5fbeb915",
   "metadata": {},
   "outputs": [],
   "source": [
    "test = test.drop('Unnamed: 0', axis=1)"
   ]
  },
  {
   "cell_type": "code",
   "execution_count": null,
   "id": "8119a5c5",
   "metadata": {},
   "outputs": [],
   "source": [
    "#cleaning test dataset for better acuuracy\n",
    "test['Mileage'] = test['Mileage'].str.replace(' kmpl','')\n",
    "test['Mileage'] = test['Mileage'].str.replace(' km/kg','')\n",
    "test['Engine'] = test['Engine'].str.replace(' CC','')\n",
    "test['Power'] = test['Power'].str.replace('null bhp','112')\n",
    "test['Power'] = test['Power'].str.replace(' bhp','')"
   ]
  },
  {
   "cell_type": "code",
   "execution_count": null,
   "id": "8082b273",
   "metadata": {
    "scrolled": true
   },
   "outputs": [],
   "source": [
    "test.isna().sum()"
   ]
  },
  {
   "cell_type": "code",
   "execution_count": null,
   "id": "8144c7d9",
   "metadata": {},
   "outputs": [],
   "source": [
    "#converting following columns to float\n",
    "test['Mileage'] = test['Mileage'].astype(float)\n",
    "test['Mileage'] = test['Mileage'].astype(float)\n",
    "test['Engine'] = test['Engine'].astype(float)\n",
    "test['Power'] = test['Power'].astype(float)"
   ]
  },
  {
   "cell_type": "code",
   "execution_count": null,
   "id": "49cc9dfd",
   "metadata": {},
   "outputs": [],
   "source": [
    "data.dtypes\n",
    "test.dtypes"
   ]
  },
  {
   "cell_type": "code",
   "execution_count": null,
   "id": "76438922",
   "metadata": {},
   "outputs": [],
   "source": [
    "#specifying the features as input that will help us in creating a good model\n",
    "dffeature=['Cars','Location','Year', 'Kilometers_Driven','Fuel_Type','Transmission', \n",
    "           'Owner_Type','Mileage','Engine','Power','Seats','Price']\n",
    "data = pd.DataFrame(data, columns=dffeature)\n",
    "\n",
    "testfeature = ['Cars','Location','Year','Kilometers_Driven','Fuel_Type','Transmission', \n",
    "            'Owner_Type','Mileage','Engine','Power','Seats']\n",
    "test = pd.DataFrame(test, columns=testfeature)"
   ]
  },
  {
   "cell_type": "markdown",
   "id": "7c767c6b",
   "metadata": {},
   "source": [
    "# Data Analysis"
   ]
  },
  {
   "cell_type": "code",
   "execution_count": null,
   "id": "95a53db2",
   "metadata": {},
   "outputs": [],
   "source": [
    " # finding features relative to target Price\n",
    "correlation = data.corr()\n",
    "correlation.sort_values([\"Price\"], ascending = False, inplace = True)\n",
    "print(correlation.Price)"
   ]
  },
  {
   "cell_type": "code",
   "execution_count": null,
   "id": "3568a9e6",
   "metadata": {},
   "outputs": [],
   "source": [
    "#analysis price of cars acc to features for better output of the model\n",
    "plt.plot(data['Price'])\n"
   ]
  },
  {
   "cell_type": "code",
   "execution_count": null,
   "id": "e42bc092",
   "metadata": {},
   "outputs": [],
   "source": [
    "res = stats.probplot(data['Price'], plot=plt)"
   ]
  },
  {
   "cell_type": "code",
   "execution_count": null,
   "id": "b289bdee",
   "metadata": {},
   "outputs": [],
   "source": [
    "#comparing price values acc to different fuel types\n",
    "import plotly.graph_objects as go\n",
    "fig = go.Figure(data=[go.Pie(labels=data['Fuel_Type'], values=data['Price'], hole=.3)])\n",
    "fig.update_layout(legend=dict(orientation=\"h\", yanchor=\"bottom\",y=1.02,xanchor=\"right\",x=1))\n",
    "fig.show()"
   ]
  },
  {
   "cell_type": "code",
   "execution_count": null,
   "id": "10b1eba9",
   "metadata": {},
   "outputs": [],
   "source": [
    "#analysing price acc to diff years acc to tranmission(manual, automatic)\n",
    "plt.figure(figsize=(15,10))\n",
    "xprop = 'Year'\n",
    "yprop = 'Price'\n",
    "sns.boxplot(data=data, x=xprop, y=yprop, hue='Transmission')\n",
    "plt.xlabel('{} range'.format(xprop), size=14)\n",
    "plt.ylabel('Number of {}'.format(yprop), size=15)\n",
    "plt.title('Boxplot of {}'.format(yprop), size=15)\n",
    "plt.show()"
   ]
  },
  {
   "cell_type": "code",
   "execution_count": null,
   "id": "cbc890da",
   "metadata": {},
   "outputs": [],
   "source": [
    "#analysing price acc to diff years acc to fule types\n",
    "plt.figure(figsize=(15,10))\n",
    "xprop = 'Year'\n",
    "yprop = 'Price'\n",
    "sns.boxplot(data=data, x=xprop, y=yprop, hue='Fuel_Type')\n",
    "plt.xlabel('{} range'.format(xprop), size=14)\n",
    "plt.ylabel('Number of {}'.format(yprop), size=15)\n",
    "plt.title('Boxplot of {}'.format(yprop), size=15)\n",
    "plt.show()"
   ]
  },
  {
   "cell_type": "code",
   "execution_count": null,
   "id": "444cf1fd",
   "metadata": {},
   "outputs": [],
   "source": [
    "fig = px.box(data, x='Fuel_Type',y='Price', color='Transmission', notched=True)\n",
    "fig.update_layout(legend=dict(orientation=\"h\",yanchor=\"bottom\",y=1.02,xanchor=\"right\",x=1))\n",
    "fig.show()"
   ]
  },
  {
   "cell_type": "markdown",
   "id": "b494f5c2",
   "metadata": {},
   "source": [
    "# Model fitting "
   ]
  },
  {
   "cell_type": "code",
   "execution_count": null,
   "id": "8a5d8865",
   "metadata": {},
   "outputs": [],
   "source": [
    "import copy\n",
    "df_train=copy.deepcopy(data)\n",
    "df_test=copy.deepcopy(test)\n",
    "\n",
    "cols=np.array(data.columns[data.dtypes != object])\n",
    "for i in df_train.columns:\n",
    "    if i not in cols:\n",
    "        df_train[i]=df_train[i].map(str)\n",
    "        df_test[i]=df_test[i].map(str)\n",
    "df_train.drop(columns=cols,inplace=True)\n",
    "df_test.drop(columns=np.delete(cols,len(cols)-1),inplace=True)"
   ]
  },
  {
   "cell_type": "code",
   "execution_count": null,
   "id": "4feccb8d",
   "metadata": {},
   "outputs": [],
   "source": [
    "from sklearn.preprocessing import LabelEncoder\n",
    "from collections import defaultdict\n",
    "\n",
    "# initializing dictionary function\n",
    "cols=np.array(data.columns[data.dtypes != object])\n",
    "d = defaultdict(LabelEncoder)\n",
    "\n",
    "# only for categorical columns apply dictionary by calling fit_transform \n",
    "df_train = df_train.apply(lambda x: d[x.name].fit_transform(x))\n",
    "df_test = df_test.apply(lambda x: d[x.name].transform(x))\n",
    "df_train[cols] = data[cols]\n",
    "df_test[np.delete(cols,len(cols)-1)]=test[np.delete(cols,len(cols)-1)]"
   ]
  },
  {
   "cell_type": "code",
   "execution_count": null,
   "id": "9b438b94",
   "metadata": {},
   "outputs": [],
   "source": [
    "#train the features for accurate model\n",
    "ftrain = ['Cars', 'Location', 'Year', 'Kilometers_Driven', 'Fuel_Type', 'Transmission', \n",
    "          'Owner_Type', 'Mileage', 'Engine', 'Power', 'Seats','Price']\n",
    "#training data using LabelEncoding\n",
    "def Definedata():\n",
    "    data2 = df_train[ftrain]\n",
    "    X = data2.drop(columns=['Price']).values\n",
    "    y0 = data2['Price'].values\n",
    "    lab_enc = preprocessing.LabelEncoder()\n",
    "    y = lab_enc.fit_transform(y0)\n",
    "    return X, y"
   ]
  },
  {
   "cell_type": "code",
   "execution_count": null,
   "id": "65fad806",
   "metadata": {},
   "outputs": [],
   "source": [
    "def Models(models):\n",
    "    \n",
    "    model = models\n",
    "    X, y = Definedata()\n",
    "    #splitting dataset into test and train\n",
    "    X_train, X_test, y_train, y_test = train_test_split(X, y, test_size = 0.33, random_state = 25)\n",
    "    model.fit(X_train,y_train)\n",
    "    y_pred = model.predict(X_test)\n",
    "    y_total = model.predict(X)\n",
    "    \n",
    "\n",
    "def Featureimportances(models):\n",
    "    model = models\n",
    "    model.fit(X_train,y_train)\n",
    "    importances = model.feature_importances_\n",
    "    features = df_test.columns[:9]\n",
    "    imp = pd.DataFrame({'Features': ftest, 'Importance': importances})\n",
    "    imp['Sum Importance'] = imp['Importance'].cumsum()\n",
    "    imp = imp.sort_values(by = 'Importance')\n",
    "    return imp"
   ]
  },
  {
   "cell_type": "code",
   "execution_count": null,
   "id": "2458d5be",
   "metadata": {},
   "outputs": [],
   "source": [
    "#analyzing using heatmaps\n",
    "style.use('ggplot')\n",
    "plt.subplots(figsize = (15,5))\n",
    "mask = np.zeros_like(df_train.corr(), dtype=bool)\n",
    "mask[np.triu_indices_from(mask)] = True\n",
    "sns.heatmap(df_train.corr(), cmap=sns.diverging_palette(20, 220, n=200), annot=True, mask=mask, center = 0, );"
   ]
  },
  {
   "cell_type": "code",
   "execution_count": null,
   "id": "7a65d385",
   "metadata": {},
   "outputs": [],
   "source": [
    "Acc = pd.DataFrame(index=None, columns=['model','Root Mean Squared  Error','Accuracy on Traing set','Accuracy on Testing set'])"
   ]
  },
  {
   "cell_type": "code",
   "execution_count": null,
   "id": "faaa18dd",
   "metadata": {},
   "outputs": [],
   "source": [
    "#comparing accuracy of different models\n",
    "X, y = Definedata()\n",
    "X_train, X_test, y_train, y_test = train_test_split(X, y, test_size = 0.33, random_state = 25)\n",
    "    \n",
    "regressors = [['DecisionTreeRegressor',DecisionTreeRegressor()],\n",
    "              ['XGBRegressor', XGBRegressor()],\n",
    "              ['RandomForestRegressor', RandomForestRegressor()],\n",
    "              ['MLPRegressor',MLPRegressor()],\n",
    "              ['AdaBoostRegressor',AdaBoostRegressor()],\n",
    "              ['ExtraTreesRegressor',ExtraTreesRegressor()]]\n",
    "\n",
    "for mod in regressors:\n",
    "    name = mod[0]\n",
    "    model = mod[1]\n",
    "    model.fit(X_train,y_train)\n",
    "    y_pred = model.predict(X_test)\n",
    "    \n",
    "    RMSE = np.sqrt(metrics.mean_squared_error(y_test, y_pred))\n",
    "    ATrS =  model.score(X_train,y_train)\n",
    "    ATeS = model.score(X_test,y_test)\n",
    "    \n",
    "    Acc = pd.concat([Acc, pd.DataFrame.from_records([{'model':name, 'Root Mean Squared  Error': RMSE,'Accuracy on Traing set':ATrS,'Accuracy on Testing set':ATeS}])],ignore_index=True)"
   ]
  },
  {
   "cell_type": "code",
   "execution_count": null,
   "id": "fe83a698",
   "metadata": {},
   "outputs": [],
   "source": [
    "Acc.sort_values(by='Accuracy on Testing set')"
   ]
  },
  {
   "cell_type": "code",
   "execution_count": null,
   "id": "00e99691",
   "metadata": {},
   "outputs": [],
   "source": [
    "#according to the accuracy of models predicting price of used cars\n",
    "feature1 = ['Cars', 'Location', 'Year', 'Kilometers_Driven', 'Fuel_Type', 'Transmission', \n",
    "            'Owner_Type', 'Mileage', 'Engine', 'Power', 'Seats']\n",
    "\n",
    "X0 = df_test[feature1]\n",
    "X, y = Definedata()\n",
    "X_train, X_test, y_train, y_test = train_test_split(X, y, test_size = 0.25, random_state = 25)\n",
    "model.fit(X_train,y_train)\n",
    "y_predicted = model.predict(X0)\n",
    "\n",
    "pdc = pd.DataFrame({'Car_id':test.index,'Price':y_predicted}) \n",
    "pdc.head(5)"
   ]
  },
  {
   "cell_type": "code",
   "execution_count": null,
   "id": "6084211f",
   "metadata": {},
   "outputs": [],
   "source": []
  }
 ],
 "metadata": {
  "kernelspec": {
   "display_name": "Python 3 (ipykernel)",
   "language": "python",
   "name": "python3"
  },
  "language_info": {
   "codemirror_mode": {
    "name": "ipython",
    "version": 3
   },
   "file_extension": ".py",
   "mimetype": "text/x-python",
   "name": "python",
   "nbconvert_exporter": "python",
   "pygments_lexer": "ipython3",
   "version": "3.9.12"
  }
 },
 "nbformat": 4,
 "nbformat_minor": 5
}
