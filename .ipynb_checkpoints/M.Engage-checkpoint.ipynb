{
 "cells": [
  {
   "cell_type": "code",
   "execution_count": 2,
   "id": "a3096dc8",
   "metadata": {},
   "outputs": [],
   "source": [
    "import pandas as pd\n",
    "import numpy as np\n",
    "import seaborn as sns\n",
    "import matplotlib.pyplot as plt\n",
    "from sklearn.preprocessing import StandardScaler\n",
    "\n",
    "from sklearn.model_selection import train_test_split,StratifiedShuffleSplit\n",
    "from sklearn.linear_model import LinearRegression\n",
    "# from sklearn.preprocessing import PolynomialFeatures\n",
    "from sklearn.tree import DecisionTreeRegressor\n",
    "from sklearn.ensemble import RandomForestRegressor\n",
    "from sklearn.metrics import mean_squared_error,r2_score"
   ]
  },
  {
   "cell_type": "code",
   "execution_count": null,
   "id": "4460e17b",
   "metadata": {},
   "outputs": [],
   "source": []
  },
  {
   "cell_type": "code",
   "execution_count": 3,
   "id": "e25d8e0c",
   "metadata": {},
   "outputs": [
    {
     "data": {
      "text/html": [
       "<div>\n",
       "<style scoped>\n",
       "    .dataframe tbody tr th:only-of-type {\n",
       "        vertical-align: middle;\n",
       "    }\n",
       "\n",
       "    .dataframe tbody tr th {\n",
       "        vertical-align: top;\n",
       "    }\n",
       "\n",
       "    .dataframe thead th {\n",
       "        text-align: right;\n",
       "    }\n",
       "</style>\n",
       "<table border=\"1\" class=\"dataframe\">\n",
       "  <thead>\n",
       "    <tr style=\"text-align: right;\">\n",
       "      <th></th>\n",
       "      <th>Date</th>\n",
       "      <th>ticker</th>\n",
       "      <th>net cash flow-net cash flow</th>\n",
       "      <th>net cash flow growth</th>\n",
       "      <th>operating cash flow-net operating cash flow</th>\n",
       "      <th>operating cash flow-cash flow ratio</th>\n",
       "      <th>investment cash flow-net investment cash flow</th>\n",
       "      <th>investment cash flow-cash flow ratio</th>\n",
       "      <th>Cash flow from financing-net cash flow</th>\n",
       "      <th>Cash flow from financing-cash flow ratio</th>\n",
       "    </tr>\n",
       "  </thead>\n",
       "  <tbody>\n",
       "    <tr>\n",
       "      <th>0</th>\n",
       "      <td>2022-05-14</td>\n",
       "      <td>sh688235</td>\n",
       "      <td>-3.306560e+08</td>\n",
       "      <td>-113.123749</td>\n",
       "      <td>-1.961086e+09</td>\n",
       "      <td>-593.089495</td>\n",
       "      <td>1.790489e+09</td>\n",
       "      <td>541.495996</td>\n",
       "      <td>-1.562930e+08</td>\n",
       "      <td>-47.267553</td>\n",
       "    </tr>\n",
       "    <tr>\n",
       "      <th>1</th>\n",
       "      <td>2022-05-13</td>\n",
       "      <td>sh688981</td>\n",
       "      <td>-1.586874e+10</td>\n",
       "      <td>-216.121342</td>\n",
       "      <td>1.041379e+10</td>\n",
       "      <td>65.624576</td>\n",
       "      <td>-2.709363e+10</td>\n",
       "      <td>-170.735916</td>\n",
       "      <td>8.871870e+08</td>\n",
       "      <td>5.590786</td>\n",
       "    </tr>\n",
       "    <tr>\n",
       "      <th>2</th>\n",
       "      <td>2022-05-12</td>\n",
       "      <td>sh603185</td>\n",
       "      <td>9.600612e+08</td>\n",
       "      <td>273.821613</td>\n",
       "      <td>6.525602e+08</td>\n",
       "      <td>67.970690</td>\n",
       "      <td>-2.122044e+09</td>\n",
       "      <td>-221.032163</td>\n",
       "      <td>2.429548e+09</td>\n",
       "      <td>253.061810</td>\n",
       "    </tr>\n",
       "    <tr>\n",
       "      <th>3</th>\n",
       "      <td>2022-05-12</td>\n",
       "      <td>sh600679</td>\n",
       "      <td>-2.090316e+08</td>\n",
       "      <td>-576.783603</td>\n",
       "      <td>-1.741870e+07</td>\n",
       "      <td>-8.333046</td>\n",
       "      <td>-1.396160e+08</td>\n",
       "      <td>-66.791806</td>\n",
       "      <td>-5.204274e+07</td>\n",
       "      <td>-24.897063</td>\n",
       "    </tr>\n",
       "    <tr>\n",
       "      <th>4</th>\n",
       "      <td>2022-05-10</td>\n",
       "      <td>sz002765</td>\n",
       "      <td>2.101741e+08</td>\n",
       "      <td>920.427028</td>\n",
       "      <td>1.580511e+08</td>\n",
       "      <td>75.200114</td>\n",
       "      <td>-4.193575e+07</td>\n",
       "      <td>-19.952865</td>\n",
       "      <td>9.447854e+07</td>\n",
       "      <td>44.952521</td>\n",
       "    </tr>\n",
       "  </tbody>\n",
       "</table>\n",
       "</div>"
      ],
      "text/plain": [
       "         Date    ticker  net cash flow-net cash flow  net cash flow growth  \\\n",
       "0  2022-05-14  sh688235                -3.306560e+08           -113.123749   \n",
       "1  2022-05-13  sh688981                -1.586874e+10           -216.121342   \n",
       "2  2022-05-12  sh603185                 9.600612e+08            273.821613   \n",
       "3  2022-05-12  sh600679                -2.090316e+08           -576.783603   \n",
       "4  2022-05-10  sz002765                 2.101741e+08            920.427028   \n",
       "\n",
       "   operating cash flow-net operating cash flow  \\\n",
       "0                                -1.961086e+09   \n",
       "1                                 1.041379e+10   \n",
       "2                                 6.525602e+08   \n",
       "3                                -1.741870e+07   \n",
       "4                                 1.580511e+08   \n",
       "\n",
       "   operating cash flow-cash flow ratio  \\\n",
       "0                          -593.089495   \n",
       "1                            65.624576   \n",
       "2                            67.970690   \n",
       "3                            -8.333046   \n",
       "4                            75.200114   \n",
       "\n",
       "   investment cash flow-net investment cash flow  \\\n",
       "0                                   1.790489e+09   \n",
       "1                                  -2.709363e+10   \n",
       "2                                  -2.122044e+09   \n",
       "3                                  -1.396160e+08   \n",
       "4                                  -4.193575e+07   \n",
       "\n",
       "   investment cash flow-cash flow ratio  \\\n",
       "0                            541.495996   \n",
       "1                           -170.735916   \n",
       "2                           -221.032163   \n",
       "3                            -66.791806   \n",
       "4                            -19.952865   \n",
       "\n",
       "   Cash flow from financing-net cash flow  \\\n",
       "0                           -1.562930e+08   \n",
       "1                            8.871870e+08   \n",
       "2                            2.429548e+09   \n",
       "3                           -5.204274e+07   \n",
       "4                            9.447854e+07   \n",
       "\n",
       "   Cash flow from financing-cash flow ratio  \n",
       "0                                -47.267553  \n",
       "1                                  5.590786  \n",
       "2                                253.061810  \n",
       "3                                -24.897063  \n",
       "4                                 44.952521  "
      ]
     },
     "execution_count": 3,
     "metadata": {},
     "output_type": "execute_result"
    }
   ],
   "source": [
    "#reading selected dataset\n",
    "df = pd.read_csv('cash_flow.csv')\n",
    "df.head()\n"
   ]
  },
  {
   "cell_type": "code",
   "execution_count": 4,
   "id": "a4c9c95c",
   "metadata": {},
   "outputs": [
    {
     "data": {
      "text/plain": [
       "Date                                                 0\n",
       "ticker                                               0\n",
       "net cash flow-net cash flow                         30\n",
       "net cash flow growth                             14254\n",
       "operating cash flow-net operating cash flow          0\n",
       "operating cash flow-cash flow ratio                 41\n",
       "investment cash flow-net investment cash flow      642\n",
       "investment cash flow-cash flow ratio               667\n",
       "Cash flow from financing-net cash flow            6039\n",
       "Cash flow from financing-cash flow ratio          6062\n",
       "dtype: int64"
      ]
     },
     "execution_count": 4,
     "metadata": {},
     "output_type": "execute_result"
    }
   ],
   "source": [
    "#printing number of missing values\n",
    "df.isna().sum()\n"
   ]
  },
  {
   "cell_type": "code",
   "execution_count": 5,
   "id": "57eaf315",
   "metadata": {},
   "outputs": [
    {
     "data": {
      "text/plain": [
       "Date                                              object\n",
       "ticker                                            object\n",
       "net cash flow-net cash flow                      float64\n",
       "net cash flow growth                             float64\n",
       "operating cash flow-net operating cash flow      float64\n",
       "operating cash flow-cash flow ratio              float64\n",
       "investment cash flow-net investment cash flow    float64\n",
       "investment cash flow-cash flow ratio             float64\n",
       "Cash flow from financing-net cash flow           float64\n",
       "Cash flow from financing-cash flow ratio         float64\n",
       "dtype: object"
      ]
     },
     "execution_count": 5,
     "metadata": {},
     "output_type": "execute_result"
    }
   ],
   "source": [
    "df.dtypes"
   ]
  },
  {
   "cell_type": "code",
   "execution_count": 6,
   "id": "8f3995d1",
   "metadata": {},
   "outputs": [
    {
     "name": "stdout",
     "output_type": "stream",
     "text": [
      "Rows in dataset are : 203331 \n",
      "Columns in dataset are : 10\n"
     ]
    }
   ],
   "source": [
    "#print number of rows and columns in given dataset\n",
    "print(f\"Rows in dataset are : {df.shape[0]} \\nColumns in dataset are : {df.shape[1]}\")"
   ]
  },
  {
   "cell_type": "code",
   "execution_count": 7,
   "id": "7e501155",
   "metadata": {},
   "outputs": [
    {
     "data": {
      "text/html": [
       "<div>\n",
       "<style scoped>\n",
       "    .dataframe tbody tr th:only-of-type {\n",
       "        vertical-align: middle;\n",
       "    }\n",
       "\n",
       "    .dataframe tbody tr th {\n",
       "        vertical-align: top;\n",
       "    }\n",
       "\n",
       "    .dataframe thead th {\n",
       "        text-align: right;\n",
       "    }\n",
       "</style>\n",
       "<table border=\"1\" class=\"dataframe\">\n",
       "  <thead>\n",
       "    <tr style=\"text-align: right;\">\n",
       "      <th></th>\n",
       "      <th>net cash flow-net cash flow</th>\n",
       "      <th>net cash flow growth</th>\n",
       "      <th>operating cash flow-net operating cash flow</th>\n",
       "      <th>operating cash flow-cash flow ratio</th>\n",
       "      <th>investment cash flow-net investment cash flow</th>\n",
       "      <th>investment cash flow-cash flow ratio</th>\n",
       "      <th>Cash flow from financing-net cash flow</th>\n",
       "      <th>Cash flow from financing-cash flow ratio</th>\n",
       "    </tr>\n",
       "  </thead>\n",
       "  <tbody>\n",
       "    <tr>\n",
       "      <th>count</th>\n",
       "      <td>2.033010e+05</td>\n",
       "      <td>1.890770e+05</td>\n",
       "      <td>2.033310e+05</td>\n",
       "      <td>2.032900e+05</td>\n",
       "      <td>2.026890e+05</td>\n",
       "      <td>2.026640e+05</td>\n",
       "      <td>1.972920e+05</td>\n",
       "      <td>1.972690e+05</td>\n",
       "    </tr>\n",
       "    <tr>\n",
       "      <th>mean</th>\n",
       "      <td>2.566382e+08</td>\n",
       "      <td>3.047534e+06</td>\n",
       "      <td>9.349852e+08</td>\n",
       "      <td>8.835623e+02</td>\n",
       "      <td>-1.033870e+09</td>\n",
       "      <td>-8.487563e+02</td>\n",
       "      <td>3.663031e+08</td>\n",
       "      <td>-4.412827e+01</td>\n",
       "    </tr>\n",
       "    <tr>\n",
       "      <th>std</th>\n",
       "      <td>1.201596e+10</td>\n",
       "      <td>9.453695e+08</td>\n",
       "      <td>1.983404e+10</td>\n",
       "      <td>9.468586e+04</td>\n",
       "      <td>1.514612e+10</td>\n",
       "      <td>6.932820e+04</td>\n",
       "      <td>6.006373e+09</td>\n",
       "      <td>5.503597e+04</td>\n",
       "    </tr>\n",
       "    <tr>\n",
       "      <th>min</th>\n",
       "      <td>-4.687020e+11</td>\n",
       "      <td>-2.362751e+09</td>\n",
       "      <td>-5.880090e+11</td>\n",
       "      <td>-1.276040e+06</td>\n",
       "      <td>-1.311443e+12</td>\n",
       "      <td>-2.941160e+07</td>\n",
       "      <td>-3.678530e+11</td>\n",
       "      <td>-2.005561e+07</td>\n",
       "    </tr>\n",
       "    <tr>\n",
       "      <th>25%</th>\n",
       "      <td>-9.574942e+07</td>\n",
       "      <td>-1.329117e+02</td>\n",
       "      <td>-3.117404e+07</td>\n",
       "      <td>-4.228712e+01</td>\n",
       "      <td>-2.300117e+08</td>\n",
       "      <td>-2.066660e+02</td>\n",
       "      <td>-5.589510e+07</td>\n",
       "      <td>-7.211182e+01</td>\n",
       "    </tr>\n",
       "    <tr>\n",
       "      <th>50%</th>\n",
       "      <td>-4.390895e+06</td>\n",
       "      <td>1.321312e+01</td>\n",
       "      <td>2.923241e+07</td>\n",
       "      <td>4.249156e+01</td>\n",
       "      <td>-5.380121e+07</td>\n",
       "      <td>-6.750734e+01</td>\n",
       "      <td>0.000000e+00</td>\n",
       "      <td>0.000000e+00</td>\n",
       "    </tr>\n",
       "    <tr>\n",
       "      <th>75%</th>\n",
       "      <td>8.655148e+07</td>\n",
       "      <td>1.524849e+02</td>\n",
       "      <td>1.634533e+08</td>\n",
       "      <td>1.955705e+02</td>\n",
       "      <td>-5.861112e+06</td>\n",
       "      <td>-8.654635e+00</td>\n",
       "      <td>1.447794e+08</td>\n",
       "      <td>1.252126e+02</td>\n",
       "    </tr>\n",
       "    <tr>\n",
       "      <th>max</th>\n",
       "      <td>1.591251e+12</td>\n",
       "      <td>3.140540e+11</td>\n",
       "      <td>2.020442e+12</td>\n",
       "      <td>3.237037e+07</td>\n",
       "      <td>6.023370e+11</td>\n",
       "      <td>6.642555e+05</td>\n",
       "      <td>3.810390e+11</td>\n",
       "      <td>2.643549e+06</td>\n",
       "    </tr>\n",
       "  </tbody>\n",
       "</table>\n",
       "</div>"
      ],
      "text/plain": [
       "       net cash flow-net cash flow  net cash flow growth  \\\n",
       "count                 2.033010e+05          1.890770e+05   \n",
       "mean                  2.566382e+08          3.047534e+06   \n",
       "std                   1.201596e+10          9.453695e+08   \n",
       "min                  -4.687020e+11         -2.362751e+09   \n",
       "25%                  -9.574942e+07         -1.329117e+02   \n",
       "50%                  -4.390895e+06          1.321312e+01   \n",
       "75%                   8.655148e+07          1.524849e+02   \n",
       "max                   1.591251e+12          3.140540e+11   \n",
       "\n",
       "       operating cash flow-net operating cash flow  \\\n",
       "count                                 2.033310e+05   \n",
       "mean                                  9.349852e+08   \n",
       "std                                   1.983404e+10   \n",
       "min                                  -5.880090e+11   \n",
       "25%                                  -3.117404e+07   \n",
       "50%                                   2.923241e+07   \n",
       "75%                                   1.634533e+08   \n",
       "max                                   2.020442e+12   \n",
       "\n",
       "       operating cash flow-cash flow ratio  \\\n",
       "count                         2.032900e+05   \n",
       "mean                          8.835623e+02   \n",
       "std                           9.468586e+04   \n",
       "min                          -1.276040e+06   \n",
       "25%                          -4.228712e+01   \n",
       "50%                           4.249156e+01   \n",
       "75%                           1.955705e+02   \n",
       "max                           3.237037e+07   \n",
       "\n",
       "       investment cash flow-net investment cash flow  \\\n",
       "count                                   2.026890e+05   \n",
       "mean                                   -1.033870e+09   \n",
       "std                                     1.514612e+10   \n",
       "min                                    -1.311443e+12   \n",
       "25%                                    -2.300117e+08   \n",
       "50%                                    -5.380121e+07   \n",
       "75%                                    -5.861112e+06   \n",
       "max                                     6.023370e+11   \n",
       "\n",
       "       investment cash flow-cash flow ratio  \\\n",
       "count                          2.026640e+05   \n",
       "mean                          -8.487563e+02   \n",
       "std                            6.932820e+04   \n",
       "min                           -2.941160e+07   \n",
       "25%                           -2.066660e+02   \n",
       "50%                           -6.750734e+01   \n",
       "75%                           -8.654635e+00   \n",
       "max                            6.642555e+05   \n",
       "\n",
       "       Cash flow from financing-net cash flow  \\\n",
       "count                            1.972920e+05   \n",
       "mean                             3.663031e+08   \n",
       "std                              6.006373e+09   \n",
       "min                             -3.678530e+11   \n",
       "25%                             -5.589510e+07   \n",
       "50%                              0.000000e+00   \n",
       "75%                              1.447794e+08   \n",
       "max                              3.810390e+11   \n",
       "\n",
       "       Cash flow from financing-cash flow ratio  \n",
       "count                              1.972690e+05  \n",
       "mean                              -4.412827e+01  \n",
       "std                                5.503597e+04  \n",
       "min                               -2.005561e+07  \n",
       "25%                               -7.211182e+01  \n",
       "50%                                0.000000e+00  \n",
       "75%                                1.252126e+02  \n",
       "max                                2.643549e+06  "
      ]
     },
     "execution_count": 7,
     "metadata": {},
     "output_type": "execute_result"
    }
   ],
   "source": [
    "#analyzing stats of given dataset like (count , mean, max) etc.\n",
    "df.describe()"
   ]
  },
  {
   "cell_type": "code",
   "execution_count": 8,
   "id": "2c9e0be8",
   "metadata": {},
   "outputs": [
    {
     "name": "stdout",
     "output_type": "stream",
     "text": [
      "              Date    ticker  net cash flow-net cash flow  \\\n",
      "0       2022-05-14  sh688235                -3.306560e+08   \n",
      "1       2022-05-13  sh688981                -1.586874e+10   \n",
      "2       2022-05-12  sh603185                 9.600612e+08   \n",
      "3       2022-05-12  sh600679                -2.090316e+08   \n",
      "4       2022-05-10  sz002765                 2.101741e+08   \n",
      "...            ...       ...                          ...   \n",
      "203326  2006-03-11  sz000635                -6.062135e+07   \n",
      "203327  2006-03-11  sz000612                -2.646609e+07   \n",
      "203328  2006-03-11  sz002040                 1.435208e+07   \n",
      "203329  2006-03-11  sz000601                 1.300960e+07   \n",
      "203330  2006-03-11  sz000402                -1.212743e+06   \n",
      "\n",
      "        net cash flow growth  operating cash flow-net operating cash flow  \\\n",
      "0                -113.123749                                -1.961086e+09   \n",
      "1                -216.121342                                 1.041379e+10   \n",
      "2                 273.821613                                 6.525602e+08   \n",
      "3                -576.783603                                -1.741870e+07   \n",
      "4                 920.427028                                 1.580511e+08   \n",
      "...                      ...                                          ...   \n",
      "203326             -9.116905                                 2.638024e+08   \n",
      "203327           -147.157358                                 5.597171e+07   \n",
      "203328            105.985804                                -1.008243e+07   \n",
      "203329            126.643988                                -8.102140e+06   \n",
      "203330             96.136497                                 2.208422e+08   \n",
      "\n",
      "        operating cash flow-cash flow ratio  \\\n",
      "0                               -593.089495   \n",
      "1                                 65.624576   \n",
      "2                                 67.970690   \n",
      "3                                 -8.333046   \n",
      "4                                 75.200114   \n",
      "...                                     ...   \n",
      "203326                           435.164252   \n",
      "203327                           211.484618   \n",
      "203328                           -70.250641   \n",
      "203329                           -62.278183   \n",
      "203330                         18210.144674   \n",
      "\n",
      "        investment cash flow-net investment cash flow  \\\n",
      "0                                        1.790489e+09   \n",
      "1                                       -2.709363e+10   \n",
      "2                                       -2.122044e+09   \n",
      "3                                       -1.396160e+08   \n",
      "4                                       -4.193575e+07   \n",
      "...                                               ...   \n",
      "203326                                  -2.079947e+08   \n",
      "203327                                  -4.609407e+07   \n",
      "203328                                   1.665045e+07   \n",
      "203329                                   8.678513e+07   \n",
      "203330                                   5.245551e+06   \n",
      "\n",
      "        investment cash flow-cash flow ratio  \\\n",
      "0                                 541.495996   \n",
      "1                                -170.735916   \n",
      "2                                -221.032163   \n",
      "3                                 -66.791806   \n",
      "4                                 -19.952865   \n",
      "...                                      ...   \n",
      "203326                           -343.104656   \n",
      "203327                           -174.162765   \n",
      "203328                            116.014183   \n",
      "203329                            667.085522   \n",
      "203330                            432.536160   \n",
      "\n",
      "        Cash flow from financing-net cash flow  \\\n",
      "0                                -1.562930e+08   \n",
      "1                                 8.871870e+08   \n",
      "2                                 2.429548e+09   \n",
      "3                                -5.204274e+07   \n",
      "4                                 9.447854e+07   \n",
      "...                                        ...   \n",
      "203326                           -1.170280e+08   \n",
      "203327                           -3.634372e+07   \n",
      "203328                            7.303997e+06   \n",
      "203329                           -6.567339e+07   \n",
      "203330                           -2.266051e+08   \n",
      "\n",
      "        Cash flow from financing-cash flow ratio  \n",
      "0                                     -47.267553  \n",
      "1                                       5.590786  \n",
      "2                                     253.061810  \n",
      "3                                     -24.897063  \n",
      "4                                      44.952521  \n",
      "...                                          ...  \n",
      "203326                               -193.047445  \n",
      "203327                               -137.321852  \n",
      "203328                                 50.891557  \n",
      "203329                               -504.807339  \n",
      "203330                             -18685.339118  \n",
      "\n",
      "[203331 rows x 10 columns]\n"
     ]
    }
   ],
   "source": [
    "#dropping duplicate values\n",
    "df=df.drop_duplicates()\n",
    "print(df)\n",
    "# df.head(100)"
   ]
  },
  {
   "cell_type": "code",
   "execution_count": 9,
   "id": "6fcbcb64",
   "metadata": {},
   "outputs": [
    {
     "data": {
      "text/html": [
       "<div>\n",
       "<style scoped>\n",
       "    .dataframe tbody tr th:only-of-type {\n",
       "        vertical-align: middle;\n",
       "    }\n",
       "\n",
       "    .dataframe tbody tr th {\n",
       "        vertical-align: top;\n",
       "    }\n",
       "\n",
       "    .dataframe thead th {\n",
       "        text-align: right;\n",
       "    }\n",
       "</style>\n",
       "<table border=\"1\" class=\"dataframe\">\n",
       "  <thead>\n",
       "    <tr style=\"text-align: right;\">\n",
       "      <th></th>\n",
       "      <th>net cash flow-net cash flow</th>\n",
       "      <th>net cash flow growth</th>\n",
       "      <th>operating cash flow-net operating cash flow</th>\n",
       "      <th>operating cash flow-cash flow ratio</th>\n",
       "      <th>investment cash flow-net investment cash flow</th>\n",
       "      <th>investment cash flow-cash flow ratio</th>\n",
       "      <th>Cash flow from financing-net cash flow</th>\n",
       "      <th>Cash flow from financing-cash flow ratio</th>\n",
       "    </tr>\n",
       "  </thead>\n",
       "  <tbody>\n",
       "    <tr>\n",
       "      <th>count</th>\n",
       "      <td>2.033010e+05</td>\n",
       "      <td>1.890770e+05</td>\n",
       "      <td>2.033310e+05</td>\n",
       "      <td>2.032900e+05</td>\n",
       "      <td>2.026890e+05</td>\n",
       "      <td>2.026640e+05</td>\n",
       "      <td>1.972920e+05</td>\n",
       "      <td>1.972690e+05</td>\n",
       "    </tr>\n",
       "    <tr>\n",
       "      <th>mean</th>\n",
       "      <td>2.566382e+08</td>\n",
       "      <td>3.047534e+06</td>\n",
       "      <td>9.349852e+08</td>\n",
       "      <td>8.835623e+02</td>\n",
       "      <td>-1.033870e+09</td>\n",
       "      <td>-8.487563e+02</td>\n",
       "      <td>3.663031e+08</td>\n",
       "      <td>-4.412827e+01</td>\n",
       "    </tr>\n",
       "    <tr>\n",
       "      <th>std</th>\n",
       "      <td>1.201596e+10</td>\n",
       "      <td>9.453695e+08</td>\n",
       "      <td>1.983404e+10</td>\n",
       "      <td>9.468586e+04</td>\n",
       "      <td>1.514612e+10</td>\n",
       "      <td>6.932820e+04</td>\n",
       "      <td>6.006373e+09</td>\n",
       "      <td>5.503597e+04</td>\n",
       "    </tr>\n",
       "    <tr>\n",
       "      <th>min</th>\n",
       "      <td>-4.687020e+11</td>\n",
       "      <td>-2.362751e+09</td>\n",
       "      <td>-5.880090e+11</td>\n",
       "      <td>-1.276040e+06</td>\n",
       "      <td>-1.311443e+12</td>\n",
       "      <td>-2.941160e+07</td>\n",
       "      <td>-3.678530e+11</td>\n",
       "      <td>-2.005561e+07</td>\n",
       "    </tr>\n",
       "    <tr>\n",
       "      <th>25%</th>\n",
       "      <td>-9.574942e+07</td>\n",
       "      <td>-1.329117e+02</td>\n",
       "      <td>-3.117404e+07</td>\n",
       "      <td>-4.228712e+01</td>\n",
       "      <td>-2.300117e+08</td>\n",
       "      <td>-2.066660e+02</td>\n",
       "      <td>-5.589510e+07</td>\n",
       "      <td>-7.211182e+01</td>\n",
       "    </tr>\n",
       "    <tr>\n",
       "      <th>50%</th>\n",
       "      <td>-4.390895e+06</td>\n",
       "      <td>1.321312e+01</td>\n",
       "      <td>2.923241e+07</td>\n",
       "      <td>4.249156e+01</td>\n",
       "      <td>-5.380121e+07</td>\n",
       "      <td>-6.750734e+01</td>\n",
       "      <td>0.000000e+00</td>\n",
       "      <td>0.000000e+00</td>\n",
       "    </tr>\n",
       "    <tr>\n",
       "      <th>75%</th>\n",
       "      <td>8.655148e+07</td>\n",
       "      <td>1.524849e+02</td>\n",
       "      <td>1.634533e+08</td>\n",
       "      <td>1.955705e+02</td>\n",
       "      <td>-5.861112e+06</td>\n",
       "      <td>-8.654635e+00</td>\n",
       "      <td>1.447794e+08</td>\n",
       "      <td>1.252126e+02</td>\n",
       "    </tr>\n",
       "    <tr>\n",
       "      <th>max</th>\n",
       "      <td>1.591251e+12</td>\n",
       "      <td>3.140540e+11</td>\n",
       "      <td>2.020442e+12</td>\n",
       "      <td>3.237037e+07</td>\n",
       "      <td>6.023370e+11</td>\n",
       "      <td>6.642555e+05</td>\n",
       "      <td>3.810390e+11</td>\n",
       "      <td>2.643549e+06</td>\n",
       "    </tr>\n",
       "  </tbody>\n",
       "</table>\n",
       "</div>"
      ],
      "text/plain": [
       "       net cash flow-net cash flow  net cash flow growth  \\\n",
       "count                 2.033010e+05          1.890770e+05   \n",
       "mean                  2.566382e+08          3.047534e+06   \n",
       "std                   1.201596e+10          9.453695e+08   \n",
       "min                  -4.687020e+11         -2.362751e+09   \n",
       "25%                  -9.574942e+07         -1.329117e+02   \n",
       "50%                  -4.390895e+06          1.321312e+01   \n",
       "75%                   8.655148e+07          1.524849e+02   \n",
       "max                   1.591251e+12          3.140540e+11   \n",
       "\n",
       "       operating cash flow-net operating cash flow  \\\n",
       "count                                 2.033310e+05   \n",
       "mean                                  9.349852e+08   \n",
       "std                                   1.983404e+10   \n",
       "min                                  -5.880090e+11   \n",
       "25%                                  -3.117404e+07   \n",
       "50%                                   2.923241e+07   \n",
       "75%                                   1.634533e+08   \n",
       "max                                   2.020442e+12   \n",
       "\n",
       "       operating cash flow-cash flow ratio  \\\n",
       "count                         2.032900e+05   \n",
       "mean                          8.835623e+02   \n",
       "std                           9.468586e+04   \n",
       "min                          -1.276040e+06   \n",
       "25%                          -4.228712e+01   \n",
       "50%                           4.249156e+01   \n",
       "75%                           1.955705e+02   \n",
       "max                           3.237037e+07   \n",
       "\n",
       "       investment cash flow-net investment cash flow  \\\n",
       "count                                   2.026890e+05   \n",
       "mean                                   -1.033870e+09   \n",
       "std                                     1.514612e+10   \n",
       "min                                    -1.311443e+12   \n",
       "25%                                    -2.300117e+08   \n",
       "50%                                    -5.380121e+07   \n",
       "75%                                    -5.861112e+06   \n",
       "max                                     6.023370e+11   \n",
       "\n",
       "       investment cash flow-cash flow ratio  \\\n",
       "count                          2.026640e+05   \n",
       "mean                          -8.487563e+02   \n",
       "std                            6.932820e+04   \n",
       "min                           -2.941160e+07   \n",
       "25%                           -2.066660e+02   \n",
       "50%                           -6.750734e+01   \n",
       "75%                           -8.654635e+00   \n",
       "max                            6.642555e+05   \n",
       "\n",
       "       Cash flow from financing-net cash flow  \\\n",
       "count                            1.972920e+05   \n",
       "mean                             3.663031e+08   \n",
       "std                              6.006373e+09   \n",
       "min                             -3.678530e+11   \n",
       "25%                             -5.589510e+07   \n",
       "50%                              0.000000e+00   \n",
       "75%                              1.447794e+08   \n",
       "max                              3.810390e+11   \n",
       "\n",
       "       Cash flow from financing-cash flow ratio  \n",
       "count                              1.972690e+05  \n",
       "mean                              -4.412827e+01  \n",
       "std                                5.503597e+04  \n",
       "min                               -2.005561e+07  \n",
       "25%                               -7.211182e+01  \n",
       "50%                                0.000000e+00  \n",
       "75%                                1.252126e+02  \n",
       "max                                2.643549e+06  "
      ]
     },
     "execution_count": 9,
     "metadata": {},
     "output_type": "execute_result"
    }
   ],
   "source": [
    "df.describe()\n"
   ]
  },
  {
   "cell_type": "code",
   "execution_count": 10,
   "id": "474cd413",
   "metadata": {},
   "outputs": [
    {
     "data": {
      "text/plain": [
       "Date                                                 0\n",
       "ticker                                               0\n",
       "net cash flow-net cash flow                         30\n",
       "net cash flow growth                             14254\n",
       "operating cash flow-net operating cash flow          0\n",
       "operating cash flow-cash flow ratio                 41\n",
       "investment cash flow-net investment cash flow      642\n",
       "investment cash flow-cash flow ratio               667\n",
       "Cash flow from financing-net cash flow            6039\n",
       "Cash flow from financing-cash flow ratio          6062\n",
       "dtype: int64"
      ]
     },
     "execution_count": 10,
     "metadata": {},
     "output_type": "execute_result"
    }
   ],
   "source": [
    "df.isna().sum()\n"
   ]
  },
  {
   "cell_type": "code",
   "execution_count": 11,
   "id": "c8326252",
   "metadata": {},
   "outputs": [
    {
     "data": {
      "text/html": [
       "<div>\n",
       "<style scoped>\n",
       "    .dataframe tbody tr th:only-of-type {\n",
       "        vertical-align: middle;\n",
       "    }\n",
       "\n",
       "    .dataframe tbody tr th {\n",
       "        vertical-align: top;\n",
       "    }\n",
       "\n",
       "    .dataframe thead th {\n",
       "        text-align: right;\n",
       "    }\n",
       "</style>\n",
       "<table border=\"1\" class=\"dataframe\">\n",
       "  <thead>\n",
       "    <tr style=\"text-align: right;\">\n",
       "      <th></th>\n",
       "      <th>Date</th>\n",
       "      <th>ticker</th>\n",
       "      <th>net cash flow-net cash flow</th>\n",
       "      <th>net cash flow growth</th>\n",
       "      <th>operating cash flow-net operating cash flow</th>\n",
       "      <th>operating cash flow-cash flow ratio</th>\n",
       "      <th>investment cash flow-net investment cash flow</th>\n",
       "      <th>investment cash flow-cash flow ratio</th>\n",
       "      <th>Cash flow from financing-net cash flow</th>\n",
       "      <th>Cash flow from financing-cash flow ratio</th>\n",
       "    </tr>\n",
       "  </thead>\n",
       "  <tbody>\n",
       "    <tr>\n",
       "      <th>0</th>\n",
       "      <td>2022-05-14</td>\n",
       "      <td>sh688235</td>\n",
       "      <td>-3.306560e+08</td>\n",
       "      <td>-113.123749</td>\n",
       "      <td>-1.961086e+09</td>\n",
       "      <td>-593.089495</td>\n",
       "      <td>1.790489e+09</td>\n",
       "      <td>541.495996</td>\n",
       "      <td>-1.562930e+08</td>\n",
       "      <td>-47.267553</td>\n",
       "    </tr>\n",
       "    <tr>\n",
       "      <th>1</th>\n",
       "      <td>2022-05-13</td>\n",
       "      <td>sh688981</td>\n",
       "      <td>-1.586874e+10</td>\n",
       "      <td>-216.121342</td>\n",
       "      <td>1.041379e+10</td>\n",
       "      <td>65.624576</td>\n",
       "      <td>-2.709363e+10</td>\n",
       "      <td>-170.735916</td>\n",
       "      <td>8.871870e+08</td>\n",
       "      <td>5.590786</td>\n",
       "    </tr>\n",
       "    <tr>\n",
       "      <th>2</th>\n",
       "      <td>2022-05-12</td>\n",
       "      <td>sh603185</td>\n",
       "      <td>9.600612e+08</td>\n",
       "      <td>273.821613</td>\n",
       "      <td>6.525602e+08</td>\n",
       "      <td>67.970690</td>\n",
       "      <td>-2.122044e+09</td>\n",
       "      <td>-221.032163</td>\n",
       "      <td>2.429548e+09</td>\n",
       "      <td>253.061810</td>\n",
       "    </tr>\n",
       "    <tr>\n",
       "      <th>3</th>\n",
       "      <td>2022-05-12</td>\n",
       "      <td>sh600679</td>\n",
       "      <td>-2.090316e+08</td>\n",
       "      <td>-576.783603</td>\n",
       "      <td>-1.741870e+07</td>\n",
       "      <td>-8.333046</td>\n",
       "      <td>-1.396160e+08</td>\n",
       "      <td>-66.791806</td>\n",
       "      <td>-5.204274e+07</td>\n",
       "      <td>-24.897063</td>\n",
       "    </tr>\n",
       "    <tr>\n",
       "      <th>4</th>\n",
       "      <td>2022-05-10</td>\n",
       "      <td>sz002765</td>\n",
       "      <td>2.101741e+08</td>\n",
       "      <td>920.427028</td>\n",
       "      <td>1.580511e+08</td>\n",
       "      <td>75.200114</td>\n",
       "      <td>-4.193575e+07</td>\n",
       "      <td>-19.952865</td>\n",
       "      <td>9.447854e+07</td>\n",
       "      <td>44.952521</td>\n",
       "    </tr>\n",
       "  </tbody>\n",
       "</table>\n",
       "</div>"
      ],
      "text/plain": [
       "         Date    ticker  net cash flow-net cash flow  net cash flow growth  \\\n",
       "0  2022-05-14  sh688235                -3.306560e+08           -113.123749   \n",
       "1  2022-05-13  sh688981                -1.586874e+10           -216.121342   \n",
       "2  2022-05-12  sh603185                 9.600612e+08            273.821613   \n",
       "3  2022-05-12  sh600679                -2.090316e+08           -576.783603   \n",
       "4  2022-05-10  sz002765                 2.101741e+08            920.427028   \n",
       "\n",
       "   operating cash flow-net operating cash flow  \\\n",
       "0                                -1.961086e+09   \n",
       "1                                 1.041379e+10   \n",
       "2                                 6.525602e+08   \n",
       "3                                -1.741870e+07   \n",
       "4                                 1.580511e+08   \n",
       "\n",
       "   operating cash flow-cash flow ratio  \\\n",
       "0                          -593.089495   \n",
       "1                            65.624576   \n",
       "2                            67.970690   \n",
       "3                            -8.333046   \n",
       "4                            75.200114   \n",
       "\n",
       "   investment cash flow-net investment cash flow  \\\n",
       "0                                   1.790489e+09   \n",
       "1                                  -2.709363e+10   \n",
       "2                                  -2.122044e+09   \n",
       "3                                  -1.396160e+08   \n",
       "4                                  -4.193575e+07   \n",
       "\n",
       "   investment cash flow-cash flow ratio  \\\n",
       "0                            541.495996   \n",
       "1                           -170.735916   \n",
       "2                           -221.032163   \n",
       "3                            -66.791806   \n",
       "4                            -19.952865   \n",
       "\n",
       "   Cash flow from financing-net cash flow  \\\n",
       "0                           -1.562930e+08   \n",
       "1                            8.871870e+08   \n",
       "2                            2.429548e+09   \n",
       "3                           -5.204274e+07   \n",
       "4                            9.447854e+07   \n",
       "\n",
       "   Cash flow from financing-cash flow ratio  \n",
       "0                                -47.267553  \n",
       "1                                  5.590786  \n",
       "2                                253.061810  \n",
       "3                                -24.897063  \n",
       "4                                 44.952521  "
      ]
     },
     "execution_count": 11,
     "metadata": {},
     "output_type": "execute_result"
    }
   ],
   "source": [
    "df.head()"
   ]
  },
  {
   "cell_type": "code",
   "execution_count": 12,
   "id": "e4d47638",
   "metadata": {},
   "outputs": [
    {
     "data": {
      "text/plain": [
       "Date                                                 0\n",
       "ticker                                               0\n",
       "net cash flow-net cash flow                         30\n",
       "net cash flow growth                             14254\n",
       "operating cash flow-net operating cash flow          0\n",
       "operating cash flow-cash flow ratio                 41\n",
       "investment cash flow-net investment cash flow      642\n",
       "investment cash flow-cash flow ratio               667\n",
       "Cash flow from financing-net cash flow            6039\n",
       "Cash flow from financing-cash flow ratio          6062\n",
       "dtype: int64"
      ]
     },
     "execution_count": 12,
     "metadata": {},
     "output_type": "execute_result"
    }
   ],
   "source": [
    "df.isna().sum()\n"
   ]
  },
  {
   "cell_type": "code",
   "execution_count": 13,
   "id": "bf14c6f4",
   "metadata": {},
   "outputs": [
    {
     "data": {
      "text/plain": [
       "Date                                             0\n",
       "ticker                                           0\n",
       "net cash flow-net cash flow                      0\n",
       "net cash flow growth                             0\n",
       "operating cash flow-net operating cash flow      0\n",
       "operating cash flow-cash flow ratio              0\n",
       "investment cash flow-net investment cash flow    0\n",
       "investment cash flow-cash flow ratio             0\n",
       "Cash flow from financing-net cash flow           0\n",
       "Cash flow from financing-cash flow ratio         0\n",
       "dtype: int64"
      ]
     },
     "execution_count": 13,
     "metadata": {},
     "output_type": "execute_result"
    }
   ],
   "source": [
    "#replacing the missing values in respective columns through mode values\n",
    "df['net cash flow-net cash flow']=df['net cash flow-net cash flow'].fillna(df['net cash flow-net cash flow'].mode()[0])\n",
    "df['net cash flow growth']=df['net cash flow growth'].fillna(df['net cash flow growth'].mode()[0])\n",
    "df['operating cash flow-cash flow ratio']=df['operating cash flow-cash flow ratio'].fillna(df['operating cash flow-cash flow ratio'].mode()[0])\n",
    "df['investment cash flow-net investment cash flow']=df['investment cash flow-net investment cash flow'].fillna(df['investment cash flow-net investment cash flow'].mode()[0])\n",
    "df['investment cash flow-cash flow ratio']=df['investment cash flow-cash flow ratio'].fillna(df['investment cash flow-cash flow ratio'].mode()[0])\n",
    "df['Cash flow from financing-net cash flow']=df['Cash flow from financing-net cash flow'].fillna(df['Cash flow from financing-net cash flow'].mode()[0])\n",
    "df['Cash flow from financing-cash flow ratio']=df['Cash flow from financing-cash flow ratio'].fillna(df['Cash flow from financing-cash flow ratio'].mode()[0])\n",
    "df.isna().sum()"
   ]
  },
  {
   "cell_type": "code",
   "execution_count": 14,
   "id": "fbf16146",
   "metadata": {},
   "outputs": [
    {
     "data": {
      "text/html": [
       "<div>\n",
       "<style scoped>\n",
       "    .dataframe tbody tr th:only-of-type {\n",
       "        vertical-align: middle;\n",
       "    }\n",
       "\n",
       "    .dataframe tbody tr th {\n",
       "        vertical-align: top;\n",
       "    }\n",
       "\n",
       "    .dataframe thead th {\n",
       "        text-align: right;\n",
       "    }\n",
       "</style>\n",
       "<table border=\"1\" class=\"dataframe\">\n",
       "  <thead>\n",
       "    <tr style=\"text-align: right;\">\n",
       "      <th></th>\n",
       "      <th>Date</th>\n",
       "      <th>ticker</th>\n",
       "      <th>net cash flow-net cash flow</th>\n",
       "      <th>net cash flow growth</th>\n",
       "      <th>operating cash flow-net operating cash flow</th>\n",
       "      <th>operating cash flow-cash flow ratio</th>\n",
       "      <th>investment cash flow-net investment cash flow</th>\n",
       "      <th>investment cash flow-cash flow ratio</th>\n",
       "      <th>Cash flow from financing-net cash flow</th>\n",
       "      <th>Cash flow from financing-cash flow ratio</th>\n",
       "    </tr>\n",
       "  </thead>\n",
       "  <tbody>\n",
       "    <tr>\n",
       "      <th>0</th>\n",
       "      <td>2022-05-14</td>\n",
       "      <td>sh688235</td>\n",
       "      <td>-3.306560e+08</td>\n",
       "      <td>-113.123749</td>\n",
       "      <td>-1.961086e+09</td>\n",
       "      <td>-593.089495</td>\n",
       "      <td>1.790489e+09</td>\n",
       "      <td>541.495996</td>\n",
       "      <td>-1.562930e+08</td>\n",
       "      <td>-47.267553</td>\n",
       "    </tr>\n",
       "    <tr>\n",
       "      <th>1</th>\n",
       "      <td>2022-05-13</td>\n",
       "      <td>sh688981</td>\n",
       "      <td>-1.586874e+10</td>\n",
       "      <td>-216.121342</td>\n",
       "      <td>1.041379e+10</td>\n",
       "      <td>65.624576</td>\n",
       "      <td>-2.709363e+10</td>\n",
       "      <td>-170.735916</td>\n",
       "      <td>8.871870e+08</td>\n",
       "      <td>5.590786</td>\n",
       "    </tr>\n",
       "    <tr>\n",
       "      <th>2</th>\n",
       "      <td>2022-05-12</td>\n",
       "      <td>sh603185</td>\n",
       "      <td>9.600612e+08</td>\n",
       "      <td>273.821613</td>\n",
       "      <td>6.525602e+08</td>\n",
       "      <td>67.970690</td>\n",
       "      <td>-2.122044e+09</td>\n",
       "      <td>-221.032163</td>\n",
       "      <td>2.429548e+09</td>\n",
       "      <td>253.061810</td>\n",
       "    </tr>\n",
       "    <tr>\n",
       "      <th>3</th>\n",
       "      <td>2022-05-12</td>\n",
       "      <td>sh600679</td>\n",
       "      <td>-2.090316e+08</td>\n",
       "      <td>-576.783603</td>\n",
       "      <td>-1.741870e+07</td>\n",
       "      <td>-8.333046</td>\n",
       "      <td>-1.396160e+08</td>\n",
       "      <td>-66.791806</td>\n",
       "      <td>-5.204274e+07</td>\n",
       "      <td>-24.897063</td>\n",
       "    </tr>\n",
       "    <tr>\n",
       "      <th>4</th>\n",
       "      <td>2022-05-10</td>\n",
       "      <td>sz002765</td>\n",
       "      <td>2.101741e+08</td>\n",
       "      <td>920.427028</td>\n",
       "      <td>1.580511e+08</td>\n",
       "      <td>75.200114</td>\n",
       "      <td>-4.193575e+07</td>\n",
       "      <td>-19.952865</td>\n",
       "      <td>9.447854e+07</td>\n",
       "      <td>44.952521</td>\n",
       "    </tr>\n",
       "  </tbody>\n",
       "</table>\n",
       "</div>"
      ],
      "text/plain": [
       "         Date    ticker  net cash flow-net cash flow  net cash flow growth  \\\n",
       "0  2022-05-14  sh688235                -3.306560e+08           -113.123749   \n",
       "1  2022-05-13  sh688981                -1.586874e+10           -216.121342   \n",
       "2  2022-05-12  sh603185                 9.600612e+08            273.821613   \n",
       "3  2022-05-12  sh600679                -2.090316e+08           -576.783603   \n",
       "4  2022-05-10  sz002765                 2.101741e+08            920.427028   \n",
       "\n",
       "   operating cash flow-net operating cash flow  \\\n",
       "0                                -1.961086e+09   \n",
       "1                                 1.041379e+10   \n",
       "2                                 6.525602e+08   \n",
       "3                                -1.741870e+07   \n",
       "4                                 1.580511e+08   \n",
       "\n",
       "   operating cash flow-cash flow ratio  \\\n",
       "0                          -593.089495   \n",
       "1                            65.624576   \n",
       "2                            67.970690   \n",
       "3                            -8.333046   \n",
       "4                            75.200114   \n",
       "\n",
       "   investment cash flow-net investment cash flow  \\\n",
       "0                                   1.790489e+09   \n",
       "1                                  -2.709363e+10   \n",
       "2                                  -2.122044e+09   \n",
       "3                                  -1.396160e+08   \n",
       "4                                  -4.193575e+07   \n",
       "\n",
       "   investment cash flow-cash flow ratio  \\\n",
       "0                            541.495996   \n",
       "1                           -170.735916   \n",
       "2                           -221.032163   \n",
       "3                            -66.791806   \n",
       "4                            -19.952865   \n",
       "\n",
       "   Cash flow from financing-net cash flow  \\\n",
       "0                           -1.562930e+08   \n",
       "1                            8.871870e+08   \n",
       "2                            2.429548e+09   \n",
       "3                           -5.204274e+07   \n",
       "4                            9.447854e+07   \n",
       "\n",
       "   Cash flow from financing-cash flow ratio  \n",
       "0                                -47.267553  \n",
       "1                                  5.590786  \n",
       "2                                253.061810  \n",
       "3                                -24.897063  \n",
       "4                                 44.952521  "
      ]
     },
     "execution_count": 14,
     "metadata": {},
     "output_type": "execute_result"
    }
   ],
   "source": [
    "df.head()"
   ]
  },
  {
   "cell_type": "code",
   "execution_count": 15,
   "id": "18b00563",
   "metadata": {
    "scrolled": true
   },
   "outputs": [],
   "source": [
    "#scaling the dataset for cleaning\n",
    "array=df[[\"net cash flow-net cash flow\",\"net cash flow growth\",\"operating cash flow-net operating cash flow\",\"operating cash flow-cash flow ratio\",\"investment cash flow-net investment cash flow\",\"investment cash flow-cash flow ratio\",\"Cash flow from financing-net cash flow\",\"Cash flow from financing-cash flow ratio\"]]\n",
    "scaled_features = StandardScaler().fit_transform(array)\n",
    "scaled_features_df = pd.DataFrame(scaled_features, index=array.index, columns=list(array))"
   ]
  },
  {
   "cell_type": "code",
   "execution_count": 16,
   "id": "4facefb3",
   "metadata": {},
   "outputs": [
    {
     "data": {
      "text/html": [
       "<div>\n",
       "<style scoped>\n",
       "    .dataframe tbody tr th:only-of-type {\n",
       "        vertical-align: middle;\n",
       "    }\n",
       "\n",
       "    .dataframe tbody tr th {\n",
       "        vertical-align: top;\n",
       "    }\n",
       "\n",
       "    .dataframe thead th {\n",
       "        text-align: right;\n",
       "    }\n",
       "</style>\n",
       "<table border=\"1\" class=\"dataframe\">\n",
       "  <thead>\n",
       "    <tr style=\"text-align: right;\">\n",
       "      <th></th>\n",
       "      <th>net cash flow-net cash flow</th>\n",
       "      <th>net cash flow growth</th>\n",
       "      <th>operating cash flow-net operating cash flow</th>\n",
       "      <th>operating cash flow-cash flow ratio</th>\n",
       "      <th>investment cash flow-net investment cash flow</th>\n",
       "      <th>investment cash flow-cash flow ratio</th>\n",
       "      <th>Cash flow from financing-net cash flow</th>\n",
       "      <th>Cash flow from financing-cash flow ratio</th>\n",
       "    </tr>\n",
       "  </thead>\n",
       "  <tbody>\n",
       "    <tr>\n",
       "      <th>0</th>\n",
       "      <td>-0.048877</td>\n",
       "      <td>-0.003109</td>\n",
       "      <td>-0.146016</td>\n",
       "      <td>-0.015595</td>\n",
       "      <td>0.186552</td>\n",
       "      <td>0.020046</td>\n",
       "      <td>-0.086485</td>\n",
       "      <td>-0.000082</td>\n",
       "    </tr>\n",
       "    <tr>\n",
       "      <th>1</th>\n",
       "      <td>-1.342095</td>\n",
       "      <td>-0.003109</td>\n",
       "      <td>0.477907</td>\n",
       "      <td>-0.008637</td>\n",
       "      <td>-1.723487</td>\n",
       "      <td>0.009756</td>\n",
       "      <td>0.089873</td>\n",
       "      <td>0.000893</td>\n",
       "    </tr>\n",
       "    <tr>\n",
       "      <th>2</th>\n",
       "      <td>0.058548</td>\n",
       "      <td>-0.003108</td>\n",
       "      <td>-0.014239</td>\n",
       "      <td>-0.008612</td>\n",
       "      <td>-0.072174</td>\n",
       "      <td>0.009029</td>\n",
       "      <td>0.350547</td>\n",
       "      <td>0.005458</td>\n",
       "    </tr>\n",
       "    <tr>\n",
       "      <th>3</th>\n",
       "      <td>-0.038754</td>\n",
       "      <td>-0.003109</td>\n",
       "      <td>-0.048019</td>\n",
       "      <td>-0.009418</td>\n",
       "      <td>0.058919</td>\n",
       "      <td>0.011258</td>\n",
       "      <td>-0.068866</td>\n",
       "      <td>0.000330</td>\n",
       "    </tr>\n",
       "    <tr>\n",
       "      <th>4</th>\n",
       "      <td>-0.003864</td>\n",
       "      <td>-0.003108</td>\n",
       "      <td>-0.039172</td>\n",
       "      <td>-0.008536</td>\n",
       "      <td>0.065378</td>\n",
       "      <td>0.011934</td>\n",
       "      <td>-0.044102</td>\n",
       "      <td>0.001619</td>\n",
       "    </tr>\n",
       "  </tbody>\n",
       "</table>\n",
       "</div>"
      ],
      "text/plain": [
       "   net cash flow-net cash flow  net cash flow growth  \\\n",
       "0                    -0.048877             -0.003109   \n",
       "1                    -1.342095             -0.003109   \n",
       "2                     0.058548             -0.003108   \n",
       "3                    -0.038754             -0.003109   \n",
       "4                    -0.003864             -0.003108   \n",
       "\n",
       "   operating cash flow-net operating cash flow  \\\n",
       "0                                    -0.146016   \n",
       "1                                     0.477907   \n",
       "2                                    -0.014239   \n",
       "3                                    -0.048019   \n",
       "4                                    -0.039172   \n",
       "\n",
       "   operating cash flow-cash flow ratio  \\\n",
       "0                            -0.015595   \n",
       "1                            -0.008637   \n",
       "2                            -0.008612   \n",
       "3                            -0.009418   \n",
       "4                            -0.008536   \n",
       "\n",
       "   investment cash flow-net investment cash flow  \\\n",
       "0                                       0.186552   \n",
       "1                                      -1.723487   \n",
       "2                                      -0.072174   \n",
       "3                                       0.058919   \n",
       "4                                       0.065378   \n",
       "\n",
       "   investment cash flow-cash flow ratio  \\\n",
       "0                              0.020046   \n",
       "1                              0.009756   \n",
       "2                              0.009029   \n",
       "3                              0.011258   \n",
       "4                              0.011934   \n",
       "\n",
       "   Cash flow from financing-net cash flow  \\\n",
       "0                               -0.086485   \n",
       "1                                0.089873   \n",
       "2                                0.350547   \n",
       "3                               -0.068866   \n",
       "4                               -0.044102   \n",
       "\n",
       "   Cash flow from financing-cash flow ratio  \n",
       "0                                 -0.000082  \n",
       "1                                  0.000893  \n",
       "2                                  0.005458  \n",
       "3                                  0.000330  \n",
       "4                                  0.001619  "
      ]
     },
     "execution_count": 16,
     "metadata": {},
     "output_type": "execute_result"
    }
   ],
   "source": [
    "scaled_features_df.head()"
   ]
  },
  {
   "cell_type": "code",
   "execution_count": 17,
   "id": "0d80786b",
   "metadata": {},
   "outputs": [
    {
     "data": {
      "text/plain": [
       "<AxesSubplot:>"
      ]
     },
     "execution_count": 17,
     "metadata": {},
     "output_type": "execute_result"
    },
    {
     "data": {
      "image/png": "[encoded data removed]",
      "text/plain": [
       "<Figure size 1296x1296 with 2 Axes>"
      ]
     },
     "metadata": {
      "needs_background": "light"
     },
     "output_type": "display_data"
    }
   ],
   "source": [
    "cor1 = scaled_features_df.corr()\n",
    "plt.figure(figsize =(18,18))\n",
    "sns.heatmap(cor1,annot=True,fmt=\".2f\",cmap =\"Blues\")\n"
   ]
  },
  {
   "cell_type": "code",
   "execution_count": 18,
   "id": "90d27c5c",
   "metadata": {},
   "outputs": [
    {
     "data": {
      "text/plain": [
       "2022-04-29    2897\n",
       "2022-04-28    2815\n",
       "2022-04-30    2699\n",
       "2021-10-30    1956\n",
       "2021-10-29    1911\n",
       "              ... \n",
       "2013-09-12       1\n",
       "2019-07-11       1\n",
       "2013-09-07       1\n",
       "2013-09-04       1\n",
       "2018-07-11       1\n",
       "Name: Date, Length: 3750, dtype: int64"
      ]
     },
     "execution_count": 18,
     "metadata": {},
     "output_type": "execute_result"
    }
   ],
   "source": [
    "df[\"Date\"].value_counts()"
   ]
  },
  {
   "cell_type": "code",
   "execution_count": 19,
   "id": "5687e9e3",
   "metadata": {},
   "outputs": [
    {
     "data": {
      "text/plain": [
       "<AxesSubplot:ylabel='Frequency'>"
      ]
     },
     "execution_count": 19,
     "metadata": {},
     "output_type": "execute_result"
    },
    {
     "data": {
      "image/png": "[encoded data removed]",
      "text/plain": [
       "<Figure size 432x288 with 1 Axes>"
      ]
     },
     "metadata": {
      "needs_background": "light"
     },
     "output_type": "display_data"
    }
   ],
   "source": [
    "#binning to improve the performance\n",
    "df['operating cash flow-net operating cash flow'].plot(kind='hist')\n"
   ]
  },
  {
   "cell_type": "code",
   "execution_count": 20,
   "id": "036eed6f",
   "metadata": {},
   "outputs": [
    {
     "data": {
      "text/plain": [
       "<AxesSubplot:ylabel='Frequency'>"
      ]
     },
     "execution_count": 20,
     "metadata": {},
     "output_type": "execute_result"
    },
    {
     "data": {
      "image/png": "[encoded data removed]",
      "text/plain": [
       "<Figure size 432x288 with 1 Axes>"
      ]
     },
     "metadata": {
      "needs_background": "light"
     },
     "output_type": "display_data"
    }
   ],
   "source": [
    "#binning to improve the performance\n",
    "df['investment cash flow-net investment cash flow'].plot(kind='hist')\n"
   ]
  },
  {
   "cell_type": "code",
   "execution_count": 21,
   "id": "f9342ef2",
   "metadata": {},
   "outputs": [
    {
     "data": {
      "text/plain": [
       "<AxesSubplot:ylabel='Frequency'>"
      ]
     },
     "execution_count": 21,
     "metadata": {},
     "output_type": "execute_result"
    },
    {
     "data": {
      "image/png": "[encoded data removed]",
      "text/plain": [
       "<Figure size 432x288 with 1 Axes>"
      ]
     },
     "metadata": {
      "needs_background": "light"
     },
     "output_type": "display_data"
    }
   ],
   "source": [
    "#binning to improve the performance\n",
    "df['Cash flow from financing-net cash flow'].plot(kind='hist')\n"
   ]
  },
  {
   "cell_type": "code",
   "execution_count": 22,
   "id": "8da3785c",
   "metadata": {},
   "outputs": [
    {
     "data": {
      "image/png": "[encoded data removed]",
      "text/plain": [
       "<Figure size 432x288 with 1 Axes>"
      ]
     },
     "metadata": {
      "needs_background": "light"
     },
     "output_type": "display_data"
    }
   ],
   "source": [
    "df.plot(x=\"Date\", y=[\"operating cash flow-net operating cash flow\", \"investment cash flow-net investment cash flow\",\"Cash flow from financing-net cash flow\"])\n",
    "plt.show()\n"
   ]
  },
  {
   "cell_type": "code",
   "execution_count": 23,
   "id": "3f1d71f8",
   "metadata": {},
   "outputs": [
    {
     "name": "stderr",
     "output_type": "stream",
     "text": [
      "C:\\Users\\hp\\anaconda3\\lib\\site-packages\\seaborn\\_decorators.py:36: FutureWarning: Pass the following variable as a keyword arg: x. From version 0.12, the only valid positional argument will be `data`, and passing other arguments without an explicit keyword will result in an error or misinterpretation.\n",
      "  warnings.warn(\n"
     ]
    },
    {
     "data": {
      "text/plain": [
       "<AxesSubplot:xlabel='operating cash flow-net operating cash flow'>"
      ]
     },
     "execution_count": 23,
     "metadata": {},
     "output_type": "execute_result"
    },
    {
     "data": {
      "image/png": "[encoded data removed]",
      "text/plain": [
       "<Figure size 432x288 with 1 Axes>"
      ]
     },
     "metadata": {
      "needs_background": "light"
     },
     "output_type": "display_data"
    }
   ],
   "source": [
    "sns.boxplot(df[\"operating cash flow-net operating cash flow\"])"
   ]
  },
  {
   "cell_type": "code",
   "execution_count": 24,
   "id": "ba072adb",
   "metadata": {},
   "outputs": [
    {
     "name": "stderr",
     "output_type": "stream",
     "text": [
      "C:\\Users\\hp\\anaconda3\\lib\\site-packages\\seaborn\\_decorators.py:36: FutureWarning: Pass the following variable as a keyword arg: x. From version 0.12, the only valid positional argument will be `data`, and passing other arguments without an explicit keyword will result in an error or misinterpretation.\n",
      "  warnings.warn(\n"
     ]
    },
    {
     "data": {
      "text/plain": [
       "<AxesSubplot:xlabel='operating cash flow-net operating cash flow'>"
      ]
     },
     "execution_count": 24,
     "metadata": {},
     "output_type": "execute_result"
    },
    {
     "data": {
      "image/png": "[encoded data removed]",
      "text/plain": [
       "<Figure size 432x288 with 1 Axes>"
      ]
     },
     "metadata": {
      "needs_background": "light"
     },
     "output_type": "display_data"
    }
   ],
   "source": [
    "# sns.boxplot(df[\"net investment cash-net inve\"])\n",
    "sns.boxplot(scaled_features_df[\"operating cash flow-net operating cash flow\"])"
   ]
  },
  {
   "cell_type": "code",
   "execution_count": 25,
   "id": "aa9c6f46",
   "metadata": {},
   "outputs": [
    {
     "data": {
      "text/plain": [
       "count    2.033310e+05\n",
       "mean     2.969947e-17\n",
       "std      1.000002e+00\n",
       "min     -2.969367e+01\n",
       "25%     -4.871230e-02\n",
       "50%     -4.566670e-02\n",
       "75%     -3.889948e-02\n",
       "max      1.018205e+02\n",
       "Name: operating cash flow-net operating cash flow, dtype: float64"
      ]
     },
     "execution_count": 25,
     "metadata": {},
     "output_type": "execute_result"
    },
    {
     "data": {
      "image/png": "[encoded data removed]",
      "text/plain": [
       "<Figure size 432x288 with 1 Axes>"
      ]
     },
     "metadata": {
      "needs_background": "light"
     },
     "output_type": "display_data"
    }
   ],
   "source": [
    "plt.boxplot(df[\"operating cash flow-net operating cash flow\"],meanline=None)\n",
    "# scaled_features_df[\"operating cash flow-net operating cash flow\"].describe()\n",
    "# print(\"hii\")\n",
    "# df[\"operating cash flow-net operating cash flow\"].describe()"
   ]
  },
  {
   "cell_type": "code",
   "execution_count": 26,
   "id": "44f66e65",
   "metadata": {},
   "outputs": [
    {
     "data": {
      "text/plain": [
       "count    2.033310e+05\n",
       "mean     9.349852e+08\n",
       "std      1.983404e+10\n",
       "min     -5.880090e+11\n",
       "25%     -3.117404e+07\n",
       "50%      2.923241e+07\n",
       "75%      1.634533e+08\n",
       "max      2.020442e+12\n",
       "Name: operating cash flow-net operating cash flow, dtype: float64"
      ]
     },
     "execution_count": 26,
     "metadata": {},
     "output_type": "execute_result"
    }
   ],
   "source": [
    "df[\"operating cash flow-net operating cash flow\"].describe()"
   ]
  },
  {
   "cell_type": "code",
   "execution_count": 27,
   "id": "64c45729",
   "metadata": {},
   "outputs": [
    {
     "data": {
      "text/plain": [
       "2.9699466485955444e-17"
      ]
     },
     "execution_count": 27,
     "metadata": {},
     "output_type": "execute_result"
    }
   ],
   "source": [
    "df[\"operating cash flow-net operating cash flow\"].mean()\n",
    "scaled_features_df[\"operating cash flow-net operating cash flow\"].mean()"
   ]
  }
 ],
 "metadata": {
  "kernelspec": {
   "display_name": "Python 3 (ipykernel)",
   "language": "python",
   "name": "python3"
  },
  "language_info": {
   "codemirror_mode": {
    "name": "ipython",
    "version": 3
   },
   "file_extension": ".py",
   "mimetype": "text/x-python",
   "name": "python",
   "nbconvert_exporter": "python",
   "pygments_lexer": "ipython3",
   "version": "3.9.12"
  }
 },
 "nbformat": 4,
 "nbformat_minor": 5
}
