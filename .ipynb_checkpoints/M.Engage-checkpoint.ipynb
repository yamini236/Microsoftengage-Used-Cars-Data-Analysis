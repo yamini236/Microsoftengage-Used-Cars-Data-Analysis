{
 "cells": [
  {
   "cell_type": "code",
   "execution_count": 94,
   "id": "d2e3fea3",
   "metadata": {},
   "outputs": [],
   "source": [
    "import os\n",
    "import matplotlib\n",
    "import matplotlib.pyplot as plt\n",
    "import matplotlib.style as style\n",
    "import numpy as np\n",
    "import pandas as pd\n",
    "import plotly.express as px\n",
    "import seaborn as sns\n",
    "from scipy import stats\n",
    "import warnings\n",
    "\n",
    "\n",
    "from lightgbm import LGBMClassifier\n",
    "from sklearn import metrics\n",
    "from sklearn import model_selection\n",
    "from sklearn import preprocessing\n",
    "from sklearn.datasets import make_classification\n",
    "from sklearn.ensemble import ExtraTreesRegressor\n",
    "from sklearn.ensemble import GradientBoostingClassifier\n",
    "from sklearn.ensemble import GradientBoostingRegressor\n",
    "from sklearn.ensemble import RandomForestClassifier\n",
    "from sklearn.ensemble import RandomForestRegressor\n",
    "from sklearn.linear_model import LogisticRegression\n",
    "from sklearn.linear_model import Ridge\n",
    "from sklearn.metrics import accuracy_score\n",
    "from sklearn.metrics import classification_report, confusion_matrix\n",
    "from sklearn.metrics import mean_squared_error\n",
    "from sklearn.metrics import mean_squared_error, mean_absolute_error\n",
    "from sklearn.metrics import plot_confusion_matrix\n",
    "from sklearn.model_selection import cross_val_score\n",
    "from sklearn.model_selection import train_test_split\n",
    "from sklearn.naive_bayes import GaussianNB\n",
    "from sklearn.neighbors import KNeighborsClassifier\n",
    "from sklearn.neighbors import KNeighborsRegressor\n",
    "from sklearn.preprocessing import StandardScaler, Normalizer\n",
    "from sklearn.tree import DecisionTreeClassifier\n",
    "from sklearn.tree import DecisionTreeRegressor\n",
    "from xgboost import XGBClassifier\n",
    "from xgboost.sklearn import XGBRegressor\n",
    "from catboost import CatBoostRegressor\n",
    "from sklearn.ensemble import GradientBoostingRegressor,AdaBoostRegressor,BaggingRegressor, RandomForestRegressor\n",
    "from sklearn.neural_network import MLPRegressor\n",
    "import xgboost as xgb"
   ]
  },
  {
   "cell_type": "code",
   "execution_count": 95,
   "id": "f671d357",
   "metadata": {},
   "outputs": [],
   "source": [
    "df = pd.read_csv('train-data.csv')\n",
    "test = pd.read_csv('test-data.csv')\n",
    "\n"
   ]
  },
  {
   "cell_type": "markdown",
   "id": "4c79c10a",
   "metadata": {},
   "source": [
    "# Data Preprocessing"
   ]
  },
  {
   "cell_type": "code",
   "execution_count": 96,
   "id": "a7d73731",
   "metadata": {},
   "outputs": [
    {
     "data": {
      "text/html": [
       "<div>\n",
       "<style scoped>\n",
       "    .dataframe tbody tr th:only-of-type {\n",
       "        vertical-align: middle;\n",
       "    }\n",
       "\n",
       "    .dataframe tbody tr th {\n",
       "        vertical-align: top;\n",
       "    }\n",
       "\n",
       "    .dataframe thead th {\n",
       "        text-align: right;\n",
       "    }\n",
       "</style>\n",
       "<table border=\"1\" class=\"dataframe\">\n",
       "  <thead>\n",
       "    <tr style=\"text-align: right;\">\n",
       "      <th></th>\n",
       "      <th>Unnamed: 0</th>\n",
       "      <th>Name</th>\n",
       "      <th>Location</th>\n",
       "      <th>Year</th>\n",
       "      <th>Kilometers_Driven</th>\n",
       "      <th>Fuel_Type</th>\n",
       "      <th>Transmission</th>\n",
       "      <th>Owner_Type</th>\n",
       "      <th>Mileage</th>\n",
       "      <th>Engine</th>\n",
       "      <th>Power</th>\n",
       "      <th>Seats</th>\n",
       "      <th>New_Price</th>\n",
       "    </tr>\n",
       "  </thead>\n",
       "  <tbody>\n",
       "    <tr>\n",
       "      <th>0</th>\n",
       "      <td>0</td>\n",
       "      <td>Maruti Alto K10 LXI CNG</td>\n",
       "      <td>Delhi</td>\n",
       "      <td>2014</td>\n",
       "      <td>40929</td>\n",
       "      <td>CNG</td>\n",
       "      <td>Manual</td>\n",
       "      <td>First</td>\n",
       "      <td>32.26 km/kg</td>\n",
       "      <td>998 CC</td>\n",
       "      <td>58.2 bhp</td>\n",
       "      <td>4.0</td>\n",
       "      <td>NaN</td>\n",
       "    </tr>\n",
       "    <tr>\n",
       "      <th>1</th>\n",
       "      <td>1</td>\n",
       "      <td>Maruti Alto 800 2016-2019 LXI</td>\n",
       "      <td>Coimbatore</td>\n",
       "      <td>2013</td>\n",
       "      <td>54493</td>\n",
       "      <td>Petrol</td>\n",
       "      <td>Manual</td>\n",
       "      <td>Second</td>\n",
       "      <td>24.7 kmpl</td>\n",
       "      <td>796 CC</td>\n",
       "      <td>47.3 bhp</td>\n",
       "      <td>5.0</td>\n",
       "      <td>NaN</td>\n",
       "    </tr>\n",
       "    <tr>\n",
       "      <th>2</th>\n",
       "      <td>2</td>\n",
       "      <td>Toyota Innova Crysta Touring Sport 2.4 MT</td>\n",
       "      <td>Mumbai</td>\n",
       "      <td>2017</td>\n",
       "      <td>34000</td>\n",
       "      <td>Diesel</td>\n",
       "      <td>Manual</td>\n",
       "      <td>First</td>\n",
       "      <td>13.68 kmpl</td>\n",
       "      <td>2393 CC</td>\n",
       "      <td>147.8 bhp</td>\n",
       "      <td>7.0</td>\n",
       "      <td>25.27 Lakh</td>\n",
       "    </tr>\n",
       "    <tr>\n",
       "      <th>3</th>\n",
       "      <td>3</td>\n",
       "      <td>Toyota Etios Liva GD</td>\n",
       "      <td>Hyderabad</td>\n",
       "      <td>2012</td>\n",
       "      <td>139000</td>\n",
       "      <td>Diesel</td>\n",
       "      <td>Manual</td>\n",
       "      <td>First</td>\n",
       "      <td>23.59 kmpl</td>\n",
       "      <td>1364 CC</td>\n",
       "      <td>null bhp</td>\n",
       "      <td>5.0</td>\n",
       "      <td>NaN</td>\n",
       "    </tr>\n",
       "    <tr>\n",
       "      <th>4</th>\n",
       "      <td>4</td>\n",
       "      <td>Hyundai i20 Magna</td>\n",
       "      <td>Mumbai</td>\n",
       "      <td>2014</td>\n",
       "      <td>29000</td>\n",
       "      <td>Petrol</td>\n",
       "      <td>Manual</td>\n",
       "      <td>First</td>\n",
       "      <td>18.5 kmpl</td>\n",
       "      <td>1197 CC</td>\n",
       "      <td>82.85 bhp</td>\n",
       "      <td>5.0</td>\n",
       "      <td>NaN</td>\n",
       "    </tr>\n",
       "  </tbody>\n",
       "</table>\n",
       "</div>"
      ],
      "text/plain": [
       "   Unnamed: 0                                       Name    Location  Year  \\\n",
       "0           0                    Maruti Alto K10 LXI CNG       Delhi  2014   \n",
       "1           1              Maruti Alto 800 2016-2019 LXI  Coimbatore  2013   \n",
       "2           2  Toyota Innova Crysta Touring Sport 2.4 MT      Mumbai  2017   \n",
       "3           3                       Toyota Etios Liva GD   Hyderabad  2012   \n",
       "4           4                          Hyundai i20 Magna      Mumbai  2014   \n",
       "\n",
       "   Kilometers_Driven Fuel_Type Transmission Owner_Type      Mileage   Engine  \\\n",
       "0              40929       CNG       Manual      First  32.26 km/kg   998 CC   \n",
       "1              54493    Petrol       Manual     Second    24.7 kmpl   796 CC   \n",
       "2              34000    Diesel       Manual      First   13.68 kmpl  2393 CC   \n",
       "3             139000    Diesel       Manual      First   23.59 kmpl  1364 CC   \n",
       "4              29000    Petrol       Manual      First    18.5 kmpl  1197 CC   \n",
       "\n",
       "       Power  Seats   New_Price  \n",
       "0   58.2 bhp    4.0         NaN  \n",
       "1   47.3 bhp    5.0         NaN  \n",
       "2  147.8 bhp    7.0  25.27 Lakh  \n",
       "3   null bhp    5.0         NaN  \n",
       "4  82.85 bhp    5.0         NaN  "
      ]
     },
     "execution_count": 96,
     "metadata": {},
     "output_type": "execute_result"
    }
   ],
   "source": [
    "test.head()"
   ]
  },
  {
   "cell_type": "code",
   "execution_count": 97,
   "id": "9cb3f7e8",
   "metadata": {},
   "outputs": [
    {
     "data": {
      "text/html": [
       "<div>\n",
       "<style scoped>\n",
       "    .dataframe tbody tr th:only-of-type {\n",
       "        vertical-align: middle;\n",
       "    }\n",
       "\n",
       "    .dataframe tbody tr th {\n",
       "        vertical-align: top;\n",
       "    }\n",
       "\n",
       "    .dataframe thead th {\n",
       "        text-align: right;\n",
       "    }\n",
       "</style>\n",
       "<table border=\"1\" class=\"dataframe\">\n",
       "  <thead>\n",
       "    <tr style=\"text-align: right;\">\n",
       "      <th></th>\n",
       "      <th>Unnamed: 0</th>\n",
       "      <th>Name</th>\n",
       "      <th>Location</th>\n",
       "      <th>Year</th>\n",
       "      <th>Kilometers_Driven</th>\n",
       "      <th>Fuel_Type</th>\n",
       "      <th>Transmission</th>\n",
       "      <th>Owner_Type</th>\n",
       "      <th>Mileage</th>\n",
       "      <th>Engine</th>\n",
       "      <th>Power</th>\n",
       "      <th>Seats</th>\n",
       "      <th>New_Price</th>\n",
       "      <th>Price</th>\n",
       "    </tr>\n",
       "  </thead>\n",
       "  <tbody>\n",
       "    <tr>\n",
       "      <th>0</th>\n",
       "      <td>0</td>\n",
       "      <td>Maruti Wagon R LXI CNG</td>\n",
       "      <td>Mumbai</td>\n",
       "      <td>2010</td>\n",
       "      <td>72000</td>\n",
       "      <td>CNG</td>\n",
       "      <td>Manual</td>\n",
       "      <td>First</td>\n",
       "      <td>26.6 km/kg</td>\n",
       "      <td>998 CC</td>\n",
       "      <td>58.16 bhp</td>\n",
       "      <td>5.0</td>\n",
       "      <td>NaN</td>\n",
       "      <td>1.75</td>\n",
       "    </tr>\n",
       "    <tr>\n",
       "      <th>1</th>\n",
       "      <td>1</td>\n",
       "      <td>Hyundai Creta 1.6 CRDi SX Option</td>\n",
       "      <td>Pune</td>\n",
       "      <td>2015</td>\n",
       "      <td>41000</td>\n",
       "      <td>Diesel</td>\n",
       "      <td>Manual</td>\n",
       "      <td>First</td>\n",
       "      <td>19.67 kmpl</td>\n",
       "      <td>1582 CC</td>\n",
       "      <td>126.2 bhp</td>\n",
       "      <td>5.0</td>\n",
       "      <td>NaN</td>\n",
       "      <td>12.50</td>\n",
       "    </tr>\n",
       "    <tr>\n",
       "      <th>2</th>\n",
       "      <td>2</td>\n",
       "      <td>Honda Jazz V</td>\n",
       "      <td>Chennai</td>\n",
       "      <td>2011</td>\n",
       "      <td>46000</td>\n",
       "      <td>Petrol</td>\n",
       "      <td>Manual</td>\n",
       "      <td>First</td>\n",
       "      <td>18.2 kmpl</td>\n",
       "      <td>1199 CC</td>\n",
       "      <td>88.7 bhp</td>\n",
       "      <td>5.0</td>\n",
       "      <td>8.61 Lakh</td>\n",
       "      <td>4.50</td>\n",
       "    </tr>\n",
       "    <tr>\n",
       "      <th>3</th>\n",
       "      <td>3</td>\n",
       "      <td>Maruti Ertiga VDI</td>\n",
       "      <td>Chennai</td>\n",
       "      <td>2012</td>\n",
       "      <td>87000</td>\n",
       "      <td>Diesel</td>\n",
       "      <td>Manual</td>\n",
       "      <td>First</td>\n",
       "      <td>20.77 kmpl</td>\n",
       "      <td>1248 CC</td>\n",
       "      <td>88.76 bhp</td>\n",
       "      <td>7.0</td>\n",
       "      <td>NaN</td>\n",
       "      <td>6.00</td>\n",
       "    </tr>\n",
       "    <tr>\n",
       "      <th>4</th>\n",
       "      <td>4</td>\n",
       "      <td>Audi A4 New 2.0 TDI Multitronic</td>\n",
       "      <td>Coimbatore</td>\n",
       "      <td>2013</td>\n",
       "      <td>40670</td>\n",
       "      <td>Diesel</td>\n",
       "      <td>Automatic</td>\n",
       "      <td>Second</td>\n",
       "      <td>15.2 kmpl</td>\n",
       "      <td>1968 CC</td>\n",
       "      <td>140.8 bhp</td>\n",
       "      <td>5.0</td>\n",
       "      <td>NaN</td>\n",
       "      <td>17.74</td>\n",
       "    </tr>\n",
       "  </tbody>\n",
       "</table>\n",
       "</div>"
      ],
      "text/plain": [
       "   Unnamed: 0                              Name    Location  Year  \\\n",
       "0           0            Maruti Wagon R LXI CNG      Mumbai  2010   \n",
       "1           1  Hyundai Creta 1.6 CRDi SX Option        Pune  2015   \n",
       "2           2                      Honda Jazz V     Chennai  2011   \n",
       "3           3                 Maruti Ertiga VDI     Chennai  2012   \n",
       "4           4   Audi A4 New 2.0 TDI Multitronic  Coimbatore  2013   \n",
       "\n",
       "   Kilometers_Driven Fuel_Type Transmission Owner_Type     Mileage   Engine  \\\n",
       "0              72000       CNG       Manual      First  26.6 km/kg   998 CC   \n",
       "1              41000    Diesel       Manual      First  19.67 kmpl  1582 CC   \n",
       "2              46000    Petrol       Manual      First   18.2 kmpl  1199 CC   \n",
       "3              87000    Diesel       Manual      First  20.77 kmpl  1248 CC   \n",
       "4              40670    Diesel    Automatic     Second   15.2 kmpl  1968 CC   \n",
       "\n",
       "       Power  Seats  New_Price  Price  \n",
       "0  58.16 bhp    5.0        NaN   1.75  \n",
       "1  126.2 bhp    5.0        NaN  12.50  \n",
       "2   88.7 bhp    5.0  8.61 Lakh   4.50  \n",
       "3  88.76 bhp    7.0        NaN   6.00  \n",
       "4  140.8 bhp    5.0        NaN  17.74  "
      ]
     },
     "execution_count": 97,
     "metadata": {},
     "output_type": "execute_result"
    }
   ],
   "source": [
    "df.head()"
   ]
  },
  {
   "cell_type": "code",
   "execution_count": 98,
   "id": "4616477a",
   "metadata": {},
   "outputs": [
    {
     "name": "stdout",
     "output_type": "stream",
     "text": [
      "Rows in dataset are : 6019 \n",
      "Columns in dataset are : 14\n"
     ]
    }
   ],
   "source": [
    "print(f\"Rows in dataset are : {df.shape[0]} \\nColumns in dataset are : {df.shape[1]}\")"
   ]
  },
  {
   "cell_type": "code",
   "execution_count": 99,
   "id": "ad397e5d",
   "metadata": {},
   "outputs": [
    {
     "data": {
      "text/html": [
       "<div>\n",
       "<style scoped>\n",
       "    .dataframe tbody tr th:only-of-type {\n",
       "        vertical-align: middle;\n",
       "    }\n",
       "\n",
       "    .dataframe tbody tr th {\n",
       "        vertical-align: top;\n",
       "    }\n",
       "\n",
       "    .dataframe thead th {\n",
       "        text-align: right;\n",
       "    }\n",
       "</style>\n",
       "<table border=\"1\" class=\"dataframe\">\n",
       "  <thead>\n",
       "    <tr style=\"text-align: right;\">\n",
       "      <th></th>\n",
       "      <th>Unnamed: 0</th>\n",
       "      <th>Year</th>\n",
       "      <th>Kilometers_Driven</th>\n",
       "      <th>Seats</th>\n",
       "      <th>Price</th>\n",
       "    </tr>\n",
       "  </thead>\n",
       "  <tbody>\n",
       "    <tr>\n",
       "      <th>count</th>\n",
       "      <td>6019.000000</td>\n",
       "      <td>6019.000000</td>\n",
       "      <td>6.019000e+03</td>\n",
       "      <td>5977.000000</td>\n",
       "      <td>6019.000000</td>\n",
       "    </tr>\n",
       "    <tr>\n",
       "      <th>mean</th>\n",
       "      <td>3009.000000</td>\n",
       "      <td>2013.358199</td>\n",
       "      <td>5.873838e+04</td>\n",
       "      <td>5.278735</td>\n",
       "      <td>9.479468</td>\n",
       "    </tr>\n",
       "    <tr>\n",
       "      <th>std</th>\n",
       "      <td>1737.679967</td>\n",
       "      <td>3.269742</td>\n",
       "      <td>9.126884e+04</td>\n",
       "      <td>0.808840</td>\n",
       "      <td>11.187917</td>\n",
       "    </tr>\n",
       "    <tr>\n",
       "      <th>min</th>\n",
       "      <td>0.000000</td>\n",
       "      <td>1998.000000</td>\n",
       "      <td>1.710000e+02</td>\n",
       "      <td>0.000000</td>\n",
       "      <td>0.440000</td>\n",
       "    </tr>\n",
       "    <tr>\n",
       "      <th>25%</th>\n",
       "      <td>1504.500000</td>\n",
       "      <td>2011.000000</td>\n",
       "      <td>3.400000e+04</td>\n",
       "      <td>5.000000</td>\n",
       "      <td>3.500000</td>\n",
       "    </tr>\n",
       "    <tr>\n",
       "      <th>50%</th>\n",
       "      <td>3009.000000</td>\n",
       "      <td>2014.000000</td>\n",
       "      <td>5.300000e+04</td>\n",
       "      <td>5.000000</td>\n",
       "      <td>5.640000</td>\n",
       "    </tr>\n",
       "    <tr>\n",
       "      <th>75%</th>\n",
       "      <td>4513.500000</td>\n",
       "      <td>2016.000000</td>\n",
       "      <td>7.300000e+04</td>\n",
       "      <td>5.000000</td>\n",
       "      <td>9.950000</td>\n",
       "    </tr>\n",
       "    <tr>\n",
       "      <th>max</th>\n",
       "      <td>6018.000000</td>\n",
       "      <td>2019.000000</td>\n",
       "      <td>6.500000e+06</td>\n",
       "      <td>10.000000</td>\n",
       "      <td>160.000000</td>\n",
       "    </tr>\n",
       "  </tbody>\n",
       "</table>\n",
       "</div>"
      ],
      "text/plain": [
       "        Unnamed: 0         Year  Kilometers_Driven        Seats        Price\n",
       "count  6019.000000  6019.000000       6.019000e+03  5977.000000  6019.000000\n",
       "mean   3009.000000  2013.358199       5.873838e+04     5.278735     9.479468\n",
       "std    1737.679967     3.269742       9.126884e+04     0.808840    11.187917\n",
       "min       0.000000  1998.000000       1.710000e+02     0.000000     0.440000\n",
       "25%    1504.500000  2011.000000       3.400000e+04     5.000000     3.500000\n",
       "50%    3009.000000  2014.000000       5.300000e+04     5.000000     5.640000\n",
       "75%    4513.500000  2016.000000       7.300000e+04     5.000000     9.950000\n",
       "max    6018.000000  2019.000000       6.500000e+06    10.000000   160.000000"
      ]
     },
     "execution_count": 99,
     "metadata": {},
     "output_type": "execute_result"
    }
   ],
   "source": [
    "df.describe()"
   ]
  },
  {
   "cell_type": "code",
   "execution_count": 100,
   "id": "b60ca640",
   "metadata": {},
   "outputs": [
    {
     "data": {
      "text/plain": [
       "(6019, 14)"
      ]
     },
     "execution_count": 100,
     "metadata": {},
     "output_type": "execute_result"
    }
   ],
   "source": [
    "df.shape"
   ]
  },
  {
   "cell_type": "code",
   "execution_count": 101,
   "id": "cd2d8a43",
   "metadata": {},
   "outputs": [
    {
     "data": {
      "text/html": [
       "<div>\n",
       "<style scoped>\n",
       "    .dataframe tbody tr th:only-of-type {\n",
       "        vertical-align: middle;\n",
       "    }\n",
       "\n",
       "    .dataframe tbody tr th {\n",
       "        vertical-align: top;\n",
       "    }\n",
       "\n",
       "    .dataframe thead th {\n",
       "        text-align: right;\n",
       "    }\n",
       "</style>\n",
       "<table border=\"1\" class=\"dataframe\">\n",
       "  <thead>\n",
       "    <tr style=\"text-align: right;\">\n",
       "      <th></th>\n",
       "      <th>Unnamed: 0</th>\n",
       "      <th>Year</th>\n",
       "      <th>Kilometers_Driven</th>\n",
       "      <th>Seats</th>\n",
       "    </tr>\n",
       "  </thead>\n",
       "  <tbody>\n",
       "    <tr>\n",
       "      <th>count</th>\n",
       "      <td>1234.000000</td>\n",
       "      <td>1234.000000</td>\n",
       "      <td>1234.000000</td>\n",
       "      <td>1223.000000</td>\n",
       "    </tr>\n",
       "    <tr>\n",
       "      <th>mean</th>\n",
       "      <td>616.500000</td>\n",
       "      <td>2013.400324</td>\n",
       "      <td>58507.288493</td>\n",
       "      <td>5.284546</td>\n",
       "    </tr>\n",
       "    <tr>\n",
       "      <th>std</th>\n",
       "      <td>356.369424</td>\n",
       "      <td>3.179700</td>\n",
       "      <td>35598.702098</td>\n",
       "      <td>0.825622</td>\n",
       "    </tr>\n",
       "    <tr>\n",
       "      <th>min</th>\n",
       "      <td>0.000000</td>\n",
       "      <td>1996.000000</td>\n",
       "      <td>1000.000000</td>\n",
       "      <td>2.000000</td>\n",
       "    </tr>\n",
       "    <tr>\n",
       "      <th>25%</th>\n",
       "      <td>308.250000</td>\n",
       "      <td>2011.000000</td>\n",
       "      <td>34000.000000</td>\n",
       "      <td>5.000000</td>\n",
       "    </tr>\n",
       "    <tr>\n",
       "      <th>50%</th>\n",
       "      <td>616.500000</td>\n",
       "      <td>2014.000000</td>\n",
       "      <td>54572.500000</td>\n",
       "      <td>5.000000</td>\n",
       "    </tr>\n",
       "    <tr>\n",
       "      <th>75%</th>\n",
       "      <td>924.750000</td>\n",
       "      <td>2016.000000</td>\n",
       "      <td>75000.000000</td>\n",
       "      <td>5.000000</td>\n",
       "    </tr>\n",
       "    <tr>\n",
       "      <th>max</th>\n",
       "      <td>1233.000000</td>\n",
       "      <td>2019.000000</td>\n",
       "      <td>350000.000000</td>\n",
       "      <td>10.000000</td>\n",
       "    </tr>\n",
       "  </tbody>\n",
       "</table>\n",
       "</div>"
      ],
      "text/plain": [
       "        Unnamed: 0         Year  Kilometers_Driven        Seats\n",
       "count  1234.000000  1234.000000        1234.000000  1223.000000\n",
       "mean    616.500000  2013.400324       58507.288493     5.284546\n",
       "std     356.369424     3.179700       35598.702098     0.825622\n",
       "min       0.000000  1996.000000        1000.000000     2.000000\n",
       "25%     308.250000  2011.000000       34000.000000     5.000000\n",
       "50%     616.500000  2014.000000       54572.500000     5.000000\n",
       "75%     924.750000  2016.000000       75000.000000     5.000000\n",
       "max    1233.000000  2019.000000      350000.000000    10.000000"
      ]
     },
     "execution_count": 101,
     "metadata": {},
     "output_type": "execute_result"
    }
   ],
   "source": [
    "test.describe()"
   ]
  },
  {
   "cell_type": "code",
   "execution_count": 102,
   "id": "96397ac5",
   "metadata": {},
   "outputs": [
    {
     "data": {
      "text/plain": [
       "(1234, 13)"
      ]
     },
     "execution_count": 102,
     "metadata": {},
     "output_type": "execute_result"
    }
   ],
   "source": [
    "test.shape"
   ]
  },
  {
   "cell_type": "code",
   "execution_count": 103,
   "id": "d5f09d2a",
   "metadata": {},
   "outputs": [
    {
     "name": "stdout",
     "output_type": "stream",
     "text": [
      "Missing values in first list: {'Mahindra KUV 100 D75 K8 5Str', 'Toyota Corolla Altis GL', 'Nissan Micra XL CVT', 'Tata Indica Vista Terra 1.2 Safire BS IV', 'Honda Civic 2010-2013 1.8 V AT', 'Hyundai i20 new Sportz AT 1.4', 'Mahindra Scorpio VLX 2WD BSIII', 'Maruti Wagon R VXI AMT Opt', 'Hyundai Accent GLX', 'Chevrolet Enjoy 1.4 LTZ 8', 'Hyundai i20 1.4 Asta AT (O) with Sunroof', 'Mercedes-Benz A Class Edition 1', 'Volkswagen Vento 1.2 TSI Comfortline AT', 'Chevrolet Enjoy Petrol LTZ 7 Seater', 'Isuzu MU 7 4x2 HIPACK', 'OpelCorsa 1.4Gsi', 'Chevrolet Spark 1.0 PS', 'Nissan Teana XL', 'Honda Civic 2010-2013 1.8 S MT Inspire', 'Mahindra Scorpio VLX Special Edition BS-IV', 'Maruti SX4 ZXI AT', 'Mercedes-Benz S Class 2005 2013 320 L', 'Mahindra Xylo H9', 'Maruti Ignis 1.2 AMT Delta', 'Maruti Ertiga VXI Petrol', 'Mahindra TUV 300 2015-2019 T8 AMT', 'Volkswagen Vento 1.6 Trendline', 'Renault Duster 85PS Diesel RxZ', 'Tata Tiago AMT 1.2 Revotron XTA', 'Fiat Punto EVO 1.3 Emotion', 'Mahindra Scorpio S10 8 Seater', 'Tata Indica V2 DiCOR DLG BS-III', 'Skoda Rapid Ultima 1.6 TDI Ambition Plus', 'Toyota Innova 2.5 GX 8 STR', 'Hyundai Xcent 1.2 CRDi SX', 'Hyundai Accent Executive LPG', 'Datsun GO T Petrol', 'Mercedes-Benz E-Class 250 D W 124', 'Maruti Ritz VDi ABS', 'Tata Indica Vista Aqua 1.2 Safire', 'BMW 7 Series 740i Sedan', 'Renault Lodgy 110PS RxL', 'Mahindra Xylo E9', 'Toyota Innova 2.0 V', 'Fiat Linea Dynamic', 'Hyundai Creta 1.6 SX Automatic', 'BMW 3 Series GT 320d Sport Line', 'Skoda Octavia 2.0 TDI MT Style', 'Mahindra Bolero SLX', 'Honda Mobilio V i VTEC', 'Tata Indica Vista Quadrajet LX', 'Mahindra TUV 300 P4', 'Ford Endeavour 3.0L AT 4x2', 'Volvo S60 D5 Kinetic', 'Honda BRV i-DTEC V MT', 'Toyota Etios Liva Diesel TRD Sportivo', 'Chevrolet Enjoy 1.3 TCDi LTZ 7', 'Renault Pulse RxZ', 'Tata Indica Vista Aqua TDI BSIII', 'Hyundai i20 Active SX Diesel', 'Hyundai EON 1.0 Era Plus', 'Tata Indica Vista Terra Quadrajet 1.3L BS IV', 'Jaguar XF 2.0 Petrol Portfolio', 'Hyundai Verna Transform VTVT with Audio', 'Volkswagen Vento 1.5 TDI Highline Plus AT', 'Hyundai Santro Xing GLS CNG', 'Bentley Flying Spur W12', 'Maruti 800 DX', 'Hyundai EON 1.0 Kappa Magna Plus', 'Mercedes-Benz GLA Class 220 d 4MATIC', 'Fiat Abarth 595 Competizione', 'Maruti Ciaz VDi Option SHVS', 'Toyota Camry MT with Moonroof', 'Audi Q3 30 TDI S Edition', 'Chevrolet Sail Hatchback 1.2', 'Hyundai Elantra GT', 'Ford Fiesta Classic 1.6 Duratec LXI', 'Land Rover Discovery 4 TDV6 Auto Diesel', 'Mitsubishi Pajero Sport 4X2 AT', 'Mahindra Verito Vibe 1.5 dCi D6', 'Mahindra KUV 100 mFALCON D75 K2', 'Tata Manza Club Class Safire90 LX', 'Honda City ZX VTEC Plus', 'Ford Fiesta Classic 1.6 SXI Duratec', 'Fiat Grande Punto 1.2 Emotion', 'Toyota Etios Cross 1.2L G', 'Mahindra KUV 100 G80 K4 Plus 5Str', 'Maruti Swift VVT ZXI', 'Audi Q5 2008-2012 3.0 TDI Quattro', 'Mahindra Scorpio SLX 2.6 Turbo 8 Str', 'Tata Tiago 1.05 Revotorq XT Option', 'Ford Fiesta 1.4 SXI Duratorq', 'Honda Jazz 2020 Petrol', 'Hyundai Verna 1.4 CX', 'Honda Amaze E i-DTEC', 'Maruti Vitara Brezza ZDi Plus AMT', 'Toyota Land Cruiser Prado VX L', 'Mahindra Scorpio VLS 2.2 mHawk', 'Tata Sumo EX 10/7 Str BSII', 'Hyundai Santro Xing XG AT eRLX Euro III', 'BMW X3 2.5si', 'Honda Jazz VX CVT', 'Hyundai Elite i20 Magna Plus', 'Mahindra KUV 100 mFALCON G80 K4 5str', 'Chevrolet Enjoy TCDi LS 7 Seater', 'BMW 5 Series 530i Sport Line', 'Fiat Avventura FIRE Dynamic', 'Ford Freestyle Titanium Plus Diesel', 'Hyundai Sonata Embera 2.4L MT', 'Hyundai Creta 1.6 SX Diesel', 'Maruti A-Star Zxi', 'Hyundai Tucson 2.0 e-VGT 4WD AT GLS', 'BMW 7 Series 730Ld DPE Signature', 'Fiat Linea Classic 1.3 Multijet', 'Volkswagen Jetta 2007-2011 1.6 Trendline', 'Skoda Laura 1.8 TSI Ambition', 'Toyota Innova 2.5 LE 2014 Diesel 8 Seater', 'Ford Classic 1.4 Duratorq CLXI', 'Honda BR-V i-DTEC S MT', 'Volkswagen Polo ALLSTAR 1.2 MPI', 'Skoda Laura 1.9 TDI MT Elegance', 'Mahindra KUV 100 mFALCON D75 K6 5str AW', 'Honda CR-V Diesel', 'Mahindra Bolero Power Plus ZLX', 'Land Rover Discovery 4 SDV6 SE', 'Maruti Vitara Brezza ZDi AMT', 'Land Rover Range Rover HSE', 'Hindustan Motors Contessa 2.0 DSL', 'Jeep Compass 1.4 Sport', 'Tata Tigor 1.2 Revotron XZ Option', 'Volkswagen CrossPolo 1.2 TDI', 'Maruti Swift AMT ZXI', 'Nissan 370Z AT', 'Honda Accord 2001-2003 2.3 VTI L MT', 'Renault Koleos 4X2 MT', 'Maruti Versa DX2', 'Skoda Laura L and K MT', 'Land Rover Freelander 2 S Business Edition', 'Skoda Superb Petrol Ambition', 'Mercedes-Benz B Class B180 Sports', 'Toyota Etios Liva 1.4 VXD', 'Nissan Terrano XE 85 PS', 'Hyundai i20 2015-2017 1.4 CRDi Sportz', 'Maruti Celerio X VXI Option', 'Mercedes-Benz CLA 45 AMG', 'Honda WRV i-DTEC VX', 'Honda City i DTec VX Option BL', 'Maruti Alto XCITE', 'Hyundai i20 2015-2017 Magna Optional 1.4 CRDi', 'Hyundai Verna Transform SX VGT CRDi BS III', 'Hyundai Creta 1.6 VTVT Base', 'Maruti Ciaz VXi', 'Hyundai Elantra SX AT', 'Volkswagen Vento 1.5 TDI Highline Plus', 'Mercedes-Benz E-Class E240 V6 AT', 'Ford Ikon 1.4 ZXi', 'Mercedes-Benz B Class B180 Sport', 'Honda BR-V i-VTEC VX MT', 'Fiat Avventura Urban Cross 1.3 Multijet Emotion', 'Toyota Etios Liva VD', 'Mahindra Thar 4X4', 'Honda Amaze VX CVT i-VTEC', 'Hyundai Santro LS zipDrive Euro I', 'Ford EcoSport 1.5 Petrol Ambiente', 'Toyota Innova Crysta Touring Sport 2.4 MT'}\n"
     ]
    }
   ],
   "source": [
    "listtrain = df['Name']\n",
    "listtest = test['Name']\n",
    "print(\"Missing values in first list:\", (set(listtest).difference(listtrain))) "
   ]
  },
  {
   "cell_type": "code",
   "execution_count": 104,
   "id": "c8a8ac40",
   "metadata": {},
   "outputs": [
    {
     "data": {
      "text/plain": [
       "Unnamed: 0              0\n",
       "Name                    0\n",
       "Location                0\n",
       "Year                    0\n",
       "Kilometers_Driven       0\n",
       "Fuel_Type               0\n",
       "Transmission            0\n",
       "Owner_Type              0\n",
       "Mileage                 2\n",
       "Engine                 36\n",
       "Power                  36\n",
       "Seats                  42\n",
       "New_Price            5195\n",
       "Price                   0\n",
       "dtype: int64"
      ]
     },
     "execution_count": 104,
     "metadata": {},
     "output_type": "execute_result"
    }
   ],
   "source": [
    "df.isna().sum()"
   ]
  },
  {
   "cell_type": "code",
   "execution_count": 105,
   "id": "432e6c41",
   "metadata": {},
   "outputs": [],
   "source": [
    "df = df.drop('New_Price', axis=1)\n",
    "\n"
   ]
  },
  {
   "cell_type": "code",
   "execution_count": 106,
   "id": "28dcd0e8",
   "metadata": {},
   "outputs": [],
   "source": [
    "df = df.dropna(how='any')"
   ]
  },
  {
   "cell_type": "code",
   "execution_count": 107,
   "id": "5ded5fa2",
   "metadata": {},
   "outputs": [],
   "source": [
    "df['Cars'] = df['Name'].str.split(\" \").str[0] + ' ' +df['Name'].str.split(\" \").str[1]"
   ]
  },
  {
   "cell_type": "code",
   "execution_count": 108,
   "id": "8fc89eb0",
   "metadata": {},
   "outputs": [],
   "source": [
    "df['Mileage'] = df['Mileage'].str.replace(' kmpl','')\n",
    "df['Mileage'] = df['Mileage'].str.replace(' km/kg','')\n",
    "df['Engine'] = df['Engine'].str.replace(' CC','')\n",
    "df['Power'] = df['Power'].str.replace('null bhp','112')\n",
    "df['Power'] = df['Power'].str.replace(' bhp','')"
   ]
  },
  {
   "cell_type": "code",
   "execution_count": 109,
   "id": "a9473a44",
   "metadata": {},
   "outputs": [
    {
     "data": {
      "text/plain": [
       "Unnamed: 0           0\n",
       "Name                 0\n",
       "Location             0\n",
       "Year                 0\n",
       "Kilometers_Driven    0\n",
       "Fuel_Type            0\n",
       "Transmission         0\n",
       "Owner_Type           0\n",
       "Mileage              0\n",
       "Engine               0\n",
       "Power                0\n",
       "Seats                0\n",
       "Price                0\n",
       "Cars                 0\n",
       "dtype: int64"
      ]
     },
     "execution_count": 109,
     "metadata": {},
     "output_type": "execute_result"
    }
   ],
   "source": [
    "df.isna().sum()"
   ]
  },
  {
   "cell_type": "code",
   "execution_count": 110,
   "id": "56255ad2",
   "metadata": {},
   "outputs": [],
   "source": [
    "df['Mileage'] = df['Mileage'].astype(float)\n",
    "df['Mileage'] = df['Mileage'].astype(float)\n",
    "df['Engine'] = df['Engine'].astype(float)\n",
    "df['Power'] = df['Power'].astype(float)"
   ]
  },
  {
   "cell_type": "code",
   "execution_count": 111,
   "id": "973d98d0",
   "metadata": {},
   "outputs": [
    {
     "data": {
      "text/plain": [
       "Unnamed: 0           0\n",
       "Name                 0\n",
       "Location             0\n",
       "Year                 0\n",
       "Kilometers_Driven    0\n",
       "Fuel_Type            0\n",
       "Transmission         0\n",
       "Owner_Type           0\n",
       "Mileage              0\n",
       "Engine               0\n",
       "Power                0\n",
       "Seats                0\n",
       "Price                0\n",
       "Cars                 0\n",
       "dtype: int64"
      ]
     },
     "execution_count": 111,
     "metadata": {},
     "output_type": "execute_result"
    }
   ],
   "source": [
    "df.isna().sum()"
   ]
  },
  {
   "cell_type": "code",
   "execution_count": 112,
   "id": "d12d2732",
   "metadata": {},
   "outputs": [],
   "source": [
    "test = test.drop('New_Price', axis=1)"
   ]
  },
  {
   "cell_type": "code",
   "execution_count": 113,
   "id": "90886f3b",
   "metadata": {},
   "outputs": [],
   "source": [
    "test = test.drop('Unnamed: 0', axis=1)"
   ]
  },
  {
   "cell_type": "code",
   "execution_count": 114,
   "id": "01c762a3",
   "metadata": {},
   "outputs": [],
   "source": [
    "test = test.dropna(how='any')"
   ]
  },
  {
   "cell_type": "code",
   "execution_count": 115,
   "id": "3c4eb79d",
   "metadata": {},
   "outputs": [],
   "source": [
    "test['Cars'] = test['Name'].str.split(\" \").str[0] + ' ' +test['Name'].str.split(\" \").str[1]"
   ]
  },
  {
   "cell_type": "code",
   "execution_count": 116,
   "id": "68b451e5",
   "metadata": {},
   "outputs": [
    {
     "name": "stdout",
     "output_type": "stream",
     "text": [
      "Missing values in first list: {'Mahindra KUV 100 D75 K8 5Str', 'Toyota Corolla Altis GL', 'Nissan Micra XL CVT', 'Tata Indica Vista Terra 1.2 Safire BS IV', 'Honda Civic 2010-2013 1.8 V AT', 'Hyundai i20 new Sportz AT 1.4', 'Mahindra Scorpio VLX 2WD BSIII', 'Maruti Wagon R VXI AMT Opt', 'Hyundai Accent GLX', 'Chevrolet Enjoy 1.4 LTZ 8', 'Hyundai i20 1.4 Asta AT (O) with Sunroof', 'Mercedes-Benz A Class Edition 1', 'Volkswagen Vento 1.2 TSI Comfortline AT', 'Chevrolet Enjoy Petrol LTZ 7 Seater', 'Isuzu MU 7 4x2 HIPACK', 'OpelCorsa 1.4Gsi', 'Chevrolet Spark 1.0 PS', 'Nissan Teana XL', 'Honda Civic 2010-2013 1.8 S MT Inspire', 'Mahindra Scorpio VLX Special Edition BS-IV', 'Maruti SX4 ZXI AT', 'Mercedes-Benz S Class 2005 2013 320 L', 'Mahindra Xylo H9', 'Maruti Ignis 1.2 AMT Delta', 'Maruti Ertiga VXI Petrol', 'Mahindra TUV 300 2015-2019 T8 AMT', 'Volkswagen Vento 1.6 Trendline', 'Renault Duster 85PS Diesel RxZ', 'Tata Tiago AMT 1.2 Revotron XTA', 'Fiat Punto EVO 1.3 Emotion', 'Mahindra Scorpio S10 8 Seater', 'Tata Indica V2 DiCOR DLG BS-III', 'Skoda Rapid Ultima 1.6 TDI Ambition Plus', 'Toyota Innova 2.5 GX 8 STR', 'Hyundai Xcent 1.2 CRDi SX', 'Hyundai Accent Executive LPG', 'Datsun GO T Petrol', 'Mercedes-Benz E-Class 250 D W 124', 'Maruti Ritz VDi ABS', 'Tata Indica Vista Aqua 1.2 Safire', 'BMW 7 Series 740i Sedan', 'Renault Lodgy 110PS RxL', 'Mahindra Xylo E9', 'Toyota Innova 2.0 V', 'Fiat Linea Dynamic', 'Hyundai Creta 1.6 SX Automatic', 'BMW 3 Series GT 320d Sport Line', 'Skoda Octavia 2.0 TDI MT Style', 'Mahindra Bolero SLX', 'Honda Mobilio V i VTEC', 'Tata Indica Vista Quadrajet LX', 'Mahindra TUV 300 P4', 'Ford Endeavour 3.0L AT 4x2', 'Volvo S60 D5 Kinetic', 'Honda BRV i-DTEC V MT', 'Toyota Etios Liva Diesel TRD Sportivo', 'Chevrolet Enjoy 1.3 TCDi LTZ 7', 'Renault Pulse RxZ', 'Tata Indica Vista Aqua TDI BSIII', 'Hyundai i20 Active SX Diesel', 'Hyundai EON 1.0 Era Plus', 'Tata Indica Vista Terra Quadrajet 1.3L BS IV', 'Jaguar XF 2.0 Petrol Portfolio', 'Hyundai Verna Transform VTVT with Audio', 'Volkswagen Vento 1.5 TDI Highline Plus AT', 'Hyundai Santro Xing GLS CNG', 'Bentley Flying Spur W12', 'Maruti 800 DX', 'Hyundai EON 1.0 Kappa Magna Plus', 'Mercedes-Benz GLA Class 220 d 4MATIC', 'Fiat Abarth 595 Competizione', 'Maruti Ciaz VDi Option SHVS', 'Toyota Camry MT with Moonroof', 'Audi Q3 30 TDI S Edition', 'Chevrolet Sail Hatchback 1.2', 'Hyundai Elantra GT', 'Ford Fiesta Classic 1.6 Duratec LXI', 'Land Rover Discovery 4 TDV6 Auto Diesel', 'Mitsubishi Pajero Sport 4X2 AT', 'Mahindra Verito Vibe 1.5 dCi D6', 'Mahindra KUV 100 mFALCON D75 K2', 'Tata Manza Club Class Safire90 LX', 'Honda City ZX VTEC Plus', 'Ford Fiesta Classic 1.6 SXI Duratec', 'Fiat Grande Punto 1.2 Emotion', 'Toyota Etios Cross 1.2L G', 'Mahindra KUV 100 G80 K4 Plus 5Str', 'Maruti Swift VVT ZXI', 'Audi Q5 2008-2012 3.0 TDI Quattro', 'Mahindra Scorpio SLX 2.6 Turbo 8 Str', 'Tata Tiago 1.05 Revotorq XT Option', 'Ford Fiesta 1.4 SXI Duratorq', 'Honda Jazz 2020 Petrol', 'Hyundai Verna 1.4 CX', 'Honda Amaze E i-DTEC', 'Maruti Vitara Brezza ZDi Plus AMT', 'Toyota Land Cruiser Prado VX L', 'Mahindra Scorpio VLS 2.2 mHawk', 'Tata Sumo EX 10/7 Str BSII', 'Hyundai Santro Xing XG AT eRLX Euro III', 'BMW X3 2.5si', 'Honda Jazz VX CVT', 'Hyundai Elite i20 Magna Plus', 'Mahindra KUV 100 mFALCON G80 K4 5str', 'Chevrolet Enjoy TCDi LS 7 Seater', 'BMW 5 Series 530i Sport Line', 'Fiat Avventura FIRE Dynamic', 'Ford Freestyle Titanium Plus Diesel', 'Hyundai Sonata Embera 2.4L MT', 'Hyundai Creta 1.6 SX Diesel', 'Maruti A-Star Zxi', 'Hyundai Tucson 2.0 e-VGT 4WD AT GLS', 'BMW 7 Series 730Ld DPE Signature', 'Fiat Linea Classic 1.3 Multijet', 'Volkswagen Jetta 2007-2011 1.6 Trendline', 'Skoda Laura 1.8 TSI Ambition', 'Toyota Innova 2.5 LE 2014 Diesel 8 Seater', 'Ford Classic 1.4 Duratorq CLXI', 'Honda BR-V i-DTEC S MT', 'Volkswagen Polo ALLSTAR 1.2 MPI', 'Skoda Laura 1.9 TDI MT Elegance', 'Mahindra KUV 100 mFALCON D75 K6 5str AW', 'Honda CR-V Diesel', 'Mahindra Bolero Power Plus ZLX', 'Land Rover Discovery 4 SDV6 SE', 'Maruti Vitara Brezza ZDi AMT', 'Land Rover Range Rover HSE', 'Hindustan Motors Contessa 2.0 DSL', 'Jeep Compass 1.4 Sport', 'Tata Tigor 1.2 Revotron XZ Option', 'Volkswagen CrossPolo 1.2 TDI', 'Maruti Swift AMT ZXI', 'Nissan 370Z AT', 'Honda Accord 2001-2003 2.3 VTI L MT', 'Renault Koleos 4X2 MT', 'Maruti Versa DX2', 'Skoda Laura L and K MT', 'Land Rover Freelander 2 S Business Edition', 'Skoda Superb Petrol Ambition', 'Mercedes-Benz B Class B180 Sports', 'Toyota Etios Liva 1.4 VXD', 'Nissan Terrano XE 85 PS', 'Hyundai i20 2015-2017 1.4 CRDi Sportz', 'Maruti Celerio X VXI Option', 'Mercedes-Benz CLA 45 AMG', 'Honda WRV i-DTEC VX', 'Honda City i DTec VX Option BL', 'Maruti Alto XCITE', 'Hyundai i20 2015-2017 Magna Optional 1.4 CRDi', 'Hyundai Verna Transform SX VGT CRDi BS III', 'Hyundai Creta 1.6 VTVT Base', 'Maruti Ciaz VXi', 'Hyundai Elantra SX AT', 'Volkswagen Vento 1.5 TDI Highline Plus', 'Mercedes-Benz E-Class E240 V6 AT', 'Ford Ikon 1.4 ZXi', 'Mercedes-Benz B Class B180 Sport', 'Honda BR-V i-VTEC VX MT', 'Fiat Avventura Urban Cross 1.3 Multijet Emotion', 'Toyota Etios Liva VD', 'Mahindra Thar 4X4', 'Honda Amaze VX CVT i-VTEC', 'Hyundai Santro LS zipDrive Euro I', 'Ford EcoSport 1.5 Petrol Ambiente', 'Toyota Innova Crysta Touring Sport 2.4 MT'}\n"
     ]
    }
   ],
   "source": [
    "set(test['Cars']).issubset(set(df['Cars']))\n",
    "print(\"Missing values in first list:\", (set(listtest).difference(listtrain))) \n"
   ]
  },
  {
   "cell_type": "code",
   "execution_count": 117,
   "id": "d37f16ed",
   "metadata": {},
   "outputs": [],
   "source": [
    "test.drop(test[test['Cars'].isin(['Toyota Land', 'Hindustan Motors', 'Fiat Abarth', 'Nissan 370Z', \n",
    "                                  'Isuzu MU', 'Bentley Flying', 'OpelCorsa 1.4Gsi'])].index, inplace = True)\n"
   ]
  },
  {
   "cell_type": "code",
   "execution_count": 118,
   "id": "191f9f9e",
   "metadata": {},
   "outputs": [],
   "source": [
    "test['Mileage'] = test['Mileage'].str.replace(' kmpl','')\n",
    "test['Mileage'] = test['Mileage'].str.replace(' km/kg','')\n",
    "test['Engine'] = test['Engine'].str.replace(' CC','')\n",
    "test['Power'] = test['Power'].str.replace('null bhp','112')\n",
    "test['Power'] = test['Power'].str.replace(' bhp','')"
   ]
  },
  {
   "cell_type": "code",
   "execution_count": 119,
   "id": "079ba75c",
   "metadata": {},
   "outputs": [
    {
     "data": {
      "text/plain": [
       "Name                 0\n",
       "Location             0\n",
       "Year                 0\n",
       "Kilometers_Driven    0\n",
       "Fuel_Type            0\n",
       "Transmission         0\n",
       "Owner_Type           0\n",
       "Mileage              0\n",
       "Engine               0\n",
       "Power                0\n",
       "Seats                0\n",
       "Cars                 0\n",
       "dtype: int64"
      ]
     },
     "execution_count": 119,
     "metadata": {},
     "output_type": "execute_result"
    }
   ],
   "source": [
    "test.isna().sum()"
   ]
  },
  {
   "cell_type": "code",
   "execution_count": 120,
   "id": "f3da23e8",
   "metadata": {},
   "outputs": [],
   "source": [
    "test['Mileage'] = test['Mileage'].astype(float)\n",
    "test['Mileage'] = test['Mileage'].astype(float)\n",
    "test['Engine'] = test['Engine'].astype(float)\n",
    "test['Power'] = test['Power'].astype(float)"
   ]
  },
  {
   "cell_type": "code",
   "execution_count": 121,
   "id": "4031b9a6",
   "metadata": {},
   "outputs": [
    {
     "data": {
      "text/plain": [
       "Name                 0\n",
       "Location             0\n",
       "Year                 0\n",
       "Kilometers_Driven    0\n",
       "Fuel_Type            0\n",
       "Transmission         0\n",
       "Owner_Type           0\n",
       "Mileage              0\n",
       "Engine               0\n",
       "Power                0\n",
       "Seats                0\n",
       "Cars                 0\n",
       "dtype: int64"
      ]
     },
     "execution_count": 121,
     "metadata": {},
     "output_type": "execute_result"
    }
   ],
   "source": [
    "test.isna().sum()"
   ]
  },
  {
   "cell_type": "code",
   "execution_count": 122,
   "id": "fe0113e0",
   "metadata": {},
   "outputs": [],
   "source": [
    "dffeature=['Cars','Location','Year', 'Kilometers_Driven','Fuel_Type','Transmission', \n",
    "           'Owner_Type','Mileage','Engine','Power','Seats','Price']\n",
    "df = pd.DataFrame(df, columns=dffeature)\n",
    "\n",
    "testfeature = ['Cars','Location','Year','Kilometers_Driven','Fuel_Type','Transmission', \n",
    "            'Owner_Type','Mileage','Engine','Power','Seats']\n",
    "test = pd.DataFrame(test, columns=testfeature)"
   ]
  },
  {
   "cell_type": "markdown",
   "id": "6391f82a",
   "metadata": {},
   "source": [
    "# Data Analysis"
   ]
  },
  {
   "cell_type": "code",
   "execution_count": null,
   "id": "a7296f30",
   "metadata": {},
   "outputs": [],
   "source": []
  }
 ],
 "metadata": {
  "kernelspec": {
   "display_name": "Python 3 (ipykernel)",
   "language": "python",
   "name": "python3"
  },
  "language_info": {
   "codemirror_mode": {
    "name": "ipython",
    "version": 3
   },
   "file_extension": ".py",
   "mimetype": "text/x-python",
   "name": "python",
   "nbconvert_exporter": "python",
   "pygments_lexer": "ipython3",
   "version": "3.9.12"
  }
 },
 "nbformat": 4,
 "nbformat_minor": 5
}
