{
 "cells": [
  {
   "cell_type": "markdown",
   "id": "cd36f4e2",
   "metadata": {},
   "source": [
    "# Crypto Currency Analysis\n"
   ]
  },
  {
   "cell_type": "code",
   "execution_count": null,
   "id": "5fef77b2",
   "metadata": {
    "scrolled": true
   },
   "outputs": [],
   "source": [
    "!pip install pandas_datareader"
   ]
  },
  {
   "cell_type": "code",
   "execution_count": null,
   "id": "5868d53a",
   "metadata": {},
   "outputs": [],
   "source": [
    "#importing libraries\n",
    "import pandas as pd\n",
    "import numpy as np\n",
    "import seaborn as sns\n",
    "import matplotlib.pyplot as plt\n",
    "from sklearn.preprocessing import StandardScaler\n",
    "\n",
    "sns.set_style('whitegrid')\n",
    "plt.style.use(\"fivethirtyeight\")\n",
    "%matplotlib inline\n",
    "from matplotlib.colors import LinearSegmentedColormap\n",
    "\n",
    "from datetime import datetime\n",
    "import warnings\n",
    "warnings.filterwarnings(\"ignore\")\n",
    "from pandas_datareader.data import DataReader"
   ]
  },
  {
   "cell_type": "markdown",
   "id": "2e6d91f1",
   "metadata": {},
   "source": [
    "# Bitcoin"
   ]
  },
  {
   "cell_type": "markdown",
   "id": "232ebf7b",
   "metadata": {},
   "source": [
    "Bitcoin (₿) is a decentralized digital currency that can be transferred on the peer-to-peer bitcoin network.Bitcoin transactions are verified by network nodes through cryptography and recorded in a public distributed ledger called a blockchain."
   ]
  },
  {
   "cell_type": "code",
   "execution_count": null,
   "id": "eb4712d0",
   "metadata": {},
   "outputs": [],
   "source": [
    "#bitcoin data\n",
    "btc = pd.read_csv(\"Bitcoin.csv\",sep = \",\")\n",
    "btc.head(5)"
   ]
  },
  {
   "cell_type": "code",
   "execution_count": null,
   "id": "edfefa05",
   "metadata": {},
   "outputs": [],
   "source": [
    "#finding maximum value of bitcoin\n",
    "btcmax=btc[btc['Close']==max(btc.Close)]\n",
    "print(\" The highiest value of bitcoin\")\n",
    "btcmax\n"
   ]
  },
  {
   "cell_type": "code",
   "execution_count": null,
   "id": "9b092ba1",
   "metadata": {},
   "outputs": [],
   "source": [
    "#learning about stats of bitcoin data(like mean,std etc..)\n",
    "btc.describe()"
   ]
  },
  {
   "cell_type": "code",
   "execution_count": null,
   "id": "1d0eac63",
   "metadata": {},
   "outputs": [],
   "source": [
    "#info about bitcoin data(memory usage,data types etc..)\n",
    "btc.info()"
   ]
  },
  {
   "cell_type": "code",
   "execution_count": null,
   "id": "961888aa",
   "metadata": {},
   "outputs": [],
   "source": [
    "#checing empty values in bitcoin data\n",
    "btc.isna().sum()"
   ]
  },
  {
   "cell_type": "markdown",
   "id": "1513686c",
   "metadata": {},
   "source": [
    "# Dogecoin\n"
   ]
  },
  {
   "cell_type": "markdown",
   "id": "3bd8594c",
   "metadata": {},
   "source": [
    "Dogecoin is a cryptocurrency created by software engineers Billy Markus and Jackson Palmer, who decided to create a payment system as a \"joke\", making fun of the wild speculation in cryptocurrencies at the time."
   ]
  },
  {
   "cell_type": "code",
   "execution_count": null,
   "id": "e3c9639e",
   "metadata": {},
   "outputs": [],
   "source": [
    "#dogecoin data\n",
    "doge = pd.read_csv(\"Meme Coin/Dogecoin.csv\",sep = \",\")\n",
    "doge.head(5)"
   ]
  },
  {
   "cell_type": "code",
   "execution_count": null,
   "id": "39423c69",
   "metadata": {
    "scrolled": true
   },
   "outputs": [],
   "source": [
    "#finding maximum value of dogecoin\n",
    "dogemax=doge[doge['Close']==max(doge.Close)]\n",
    "print(\" The highiest value of dogecoin\")\n",
    "dogemax"
   ]
  },
  {
   "cell_type": "code",
   "execution_count": null,
   "id": "887d4e42",
   "metadata": {},
   "outputs": [],
   "source": [
    "#learning about stats of dogecoin data(like mean,std etc..)\n",
    "doge.describe()"
   ]
  },
  {
   "cell_type": "code",
   "execution_count": null,
   "id": "efc4bfee",
   "metadata": {},
   "outputs": [],
   "source": [
    "#info about dogecoin data(memory usage,data types etc..)\n",
    "doge.info()"
   ]
  },
  {
   "cell_type": "code",
   "execution_count": null,
   "id": "df84d5e6",
   "metadata": {},
   "outputs": [],
   "source": [
    "#checing empty values in dogecoin data\n",
    "doge.isna().sum()"
   ]
  },
  {
   "cell_type": "markdown",
   "id": "47f5f70d",
   "metadata": {},
   "source": [
    "# Bitconnect"
   ]
  },
  {
   "cell_type": "markdown",
   "id": "ae065478",
   "metadata": {},
   "source": [
    "Bitconnect (also spelled BitConnect and stylized bitconnect, ticker code BCC) was an open-source cryptocurrency that was connected with a high-yield investment program, a type of Ponzi scheme.\n",
    "After the platform administrators closed the earning platform on January 16, 2018, and refunded the users' investments in BCC following a 92% coin value crash, confidence was lost and the value of the coin plummeted to below $1 from a previous high of nearly $525."
   ]
  },
  {
   "cell_type": "code",
   "execution_count": null,
   "id": "2511e4c6",
   "metadata": {},
   "outputs": [],
   "source": [
    "#bitconnect data\n",
    "bit = pd.read_csv(\"Dead Coin/bitconnect.csv\",sep = \",\")\n",
    "bit.head(5)"
   ]
  },
  {
   "cell_type": "code",
   "execution_count": null,
   "id": "8b32c89b",
   "metadata": {},
   "outputs": [],
   "source": [
    "#finding maximum value of bitconnect\n",
    "bitmax=bit[bit['Close']==max(bit.Close)]\n",
    "print(\" The highiest value of bitconnect\")\n",
    "bitmax"
   ]
  },
  {
   "cell_type": "code",
   "execution_count": null,
   "id": "ed7d06d3",
   "metadata": {},
   "outputs": [],
   "source": [
    "#learning about stats of bitconnect data(like mean,std etc..)\n",
    "bit.describe()"
   ]
  },
  {
   "cell_type": "code",
   "execution_count": null,
   "id": "aa7be4b0",
   "metadata": {},
   "outputs": [],
   "source": [
    "#info about bitconnect data(memory usage,data types etc..)\n",
    "bit.info()"
   ]
  },
  {
   "cell_type": "code",
   "execution_count": null,
   "id": "7838dc54",
   "metadata": {},
   "outputs": [],
   "source": [
    "#checing empty values in bitconnect data\n",
    "bit.isna().sum()"
   ]
  },
  {
   "cell_type": "markdown",
   "id": "5ebbf79e",
   "metadata": {},
   "source": [
    "# Ethereum\n"
   ]
  },
  {
   "cell_type": "markdown",
   "id": "99f69520",
   "metadata": {},
   "source": [
    "Ethereum is a decentralized, open-source blockchain with smart contract functionality. Ether is the native cryptocurrency of the platform. Among cryptocurrencies, Ether is second only to Bitcoin in market capitalization."
   ]
  },
  {
   "cell_type": "code",
   "execution_count": null,
   "id": "1ac76a39",
   "metadata": {},
   "outputs": [],
   "source": [
    "#Ethereum data\n",
    "ether = pd.read_csv(\"Ethereum.csv\",sep = \",\")\n",
    "ether.head(5)"
   ]
  },
  {
   "cell_type": "code",
   "execution_count": null,
   "id": "e97004d8",
   "metadata": {},
   "outputs": [],
   "source": [
    "#finding maximum value of ethereum\n",
    "ethermax=ether[ether['Close']==max(ether.Close)]\n",
    "print(\" The highiest value of Ethereum\")\n",
    "ethermax"
   ]
  },
  {
   "cell_type": "code",
   "execution_count": null,
   "id": "9cdacb1e",
   "metadata": {},
   "outputs": [],
   "source": [
    "#learning about stats of ethereum data(like mean,std etc..)\n",
    "ether.describe()"
   ]
  },
  {
   "cell_type": "code",
   "execution_count": null,
   "id": "2a67ed07",
   "metadata": {},
   "outputs": [],
   "source": [
    "#learning about stats of ethereum data(like mean,std etc..)\n",
    "ether.describe()"
   ]
  },
  {
   "cell_type": "code",
   "execution_count": null,
   "id": "0763e906",
   "metadata": {},
   "outputs": [],
   "source": [
    "#checing empty values in ethereum data\n",
    "ether.isna().sum()"
   ]
  },
  {
   "cell_type": "markdown",
   "id": "1fcfa9bf",
   "metadata": {},
   "source": [
    "# Data Visualisation"
   ]
  },
  {
   "cell_type": "markdown",
   "id": "f961f6ab",
   "metadata": {},
   "source": [
    "#Returns\n"
   ]
  },
  {
   "cell_type": "code",
   "execution_count": null,
   "id": "20de3757",
   "metadata": {},
   "outputs": [],
   "source": [
    "for df in cryptoDf:\n",
    "    df['Daily Return'] = df['Close'].pct_change()\n",
    "fig, axs = plt.subplots(nrows=total_rows, ncols=total_cols,\n",
    "                        figsize=(15*total_cols, 5*total_rows), constrained_layout=True)\n",
    "for i, var in enumerate(crypto):\n",
    "    row = i//total_cols\n",
    "    pos = i % total_cols\n",
    "    cryptoDf[i]['Daily Return'].plot(ax=axs[row][pos], legend=True,color='##00b2ca', linestyle='--', marker='.')\n",
    "    axs[row][pos].set_title(crypto[i])"
   ]
  },
  {
   "cell_type": "code",
   "execution_count": null,
   "id": "d41b3336",
   "metadata": {},
   "outputs": [],
   "source": [
    "fig, axs = plt.subplots(nrows=total_rows, ncols=total_cols,\n",
    "                        figsize=(10*total_cols, 8*total_rows))\n",
    "for i, var in enumerate(crypto):\n",
    "    row = i//total_cols\n",
    "    pos = i % total_cols\n",
    "    plot =sns.distplot(cryptoDf[i]['Daily Return'], bins=100, color='##00b2ca',ax=axs[row][pos])\n",
    "    axs[row][pos].set_title(crypto[i])\n",
    "    plt.ylabel('Daily Return')\n",
    "\n",
    "plt.tight_layout()"
   ]
  },
  {
   "cell_type": "markdown",
   "id": "5531a90e",
   "metadata": {},
   "source": [
    "Conclusion- The following plots depicts the return in the stock market of respective currencies, which in turn informs us about the percentage change in price of each currency. \n",
    "From the given plot we observer that the daily return in currency of ethereum and bitcoin was uneven in 2018, but according to 2020 stats it has imrproved and hence become even leading to a sharp rice."
   ]
  },
  {
   "cell_type": "markdown",
   "id": "852a8552",
   "metadata": {},
   "source": [
    "# Correlation"
   ]
  },
  {
   "cell_type": "code",
   "execution_count": null,
   "id": "4ade0c7d",
   "metadata": {},
   "outputs": [],
   "source": [
    "closeDf18=pd.DataFrame()\n",
    "\n",
    "closeDf18['eth']=ether18['Close']\n",
    "closeDf18['btc']=btc18['Close']\n",
    "closeDf18['bit']=bit18['Close']\n",
    "\n",
    "returns18 = closeDf18.pct_change()\n",
    "returns18.head()"
   ]
  },
  {
   "cell_type": "code",
   "execution_count": null,
   "id": "b9e0cf53",
   "metadata": {},
   "outputs": [],
   "source": [
    "btc=equalize(btc,ether)\n",
    "doge=equalize(doge,ether)\n",
    "\n",
    "closeDf=pd.DataFrame()\n",
    "closeDf['btc']=btc['Close']\n",
    "closeDf['ether']=eth['Close']\n",
    "closeDf['doge']=doge['Close']\n",
    "\n",
    "returns = closeDf.pct_change()\n",
    "returns.head()"
   ]
  },
  {
   "cell_type": "code",
   "execution_count": null,
   "id": "a49093c1",
   "metadata": {},
   "outputs": [],
   "source": [
    "sns.jointplot(data=returns18, x='btc', y=\"bit\", kind='scatter',color='###00b2ca',height=8)\n",
    "plt.show()"
   ]
  },
  {
   "cell_type": "code",
   "execution_count": null,
   "id": "538a7ab3",
   "metadata": {},
   "outputs": [],
   "source": [
    "sns.jointplot(data=returns18, x='btc', y=\"ether\", kind='scatter',color='###00b2ca',height=8)\n",
    "plt.show()"
   ]
  },
  {
   "cell_type": "code",
   "execution_count": null,
   "id": "1be6bce6",
   "metadata": {},
   "outputs": [],
   "source": [
    "sns.jointplot(data=returns18, x='bit', y=\"doge\", kind='scatter',color='###00b2ca',height=8)\n",
    "plt.show()"
   ]
  },
  {
   "cell_type": "code",
   "execution_count": null,
   "id": "3a165a9d",
   "metadata": {},
   "outputs": [],
   "source": [
    "sns.jointplot(data=returns18, x=\"erther\", y=\"doge\", kind='scatter',color='###00b2ca',height=8)\n",
    "plt.show()"
   ]
  },
  {
   "cell_type": "code",
   "execution_count": null,
   "id": "c0ed216a",
   "metadata": {},
   "outputs": [],
   "source": [
    "plt.figure(figsize=(18,18))\n",
    "sns.heatmap(returns.corr(), annot=True,fmt=\".2f\", cmap=\"Blues\")\n",
    "plt.show()"
   ]
  },
  {
   "cell_type": "code",
   "execution_count": null,
   "id": "c55d8887",
   "metadata": {},
   "outputs": [],
   "source": [
    "rets = returns18.dropna()\n",
    "\n",
    "area = np.pi * 20\n",
    "\n",
    "plt.figure(figsize=(18, 13))\n",
    "plt.scatter(rets.mean(), rets.std(), s=area)\n",
    "plt.xlabel('Expected return')\n",
    "plt.ylabel('Risk')\n",
    "\n",
    "for label, x, y in zip(rets.columns, rets.mean(), rets.std()):\n",
    "    plt.annotate(label, xy=(x, y), xytext=(50, 50), textcoords='offset points', ha='right', va='bottom', \n",
    "                 arrowprops=dict(arrowstyle='-', color='###00b2ca', connectionstyle='arc3,rad=-0.3'))"
   ]
  },
  {
   "cell_type": "markdown",
   "id": "9dc4574f",
   "metadata": {},
   "source": [
    "Conclusion-The graph depicts that although bitconnect had very high returns compared to bitcoin or Ethereum, but it was that much risky to invest money in bitconnect."
   ]
  },
  {
   "cell_type": "code",
   "execution_count": null,
   "id": "ee367556",
   "metadata": {},
   "outputs": [],
   "source": [
    "rets = returns.dropna()\n",
    "\n",
    "area = np.pi * 20\n",
    "\n",
    "plt.figure(figsize=(18, 13))\n",
    "plt.scatter(rets.mean(), rets.std(), s=area)\n",
    "plt.xlabel('Expected return')\n",
    "plt.ylabel('Risk')\n",
    "\n",
    "for label, x, y in zip(rets.columns, rets.mean(), rets.std()):\n",
    "    plt.annotate(label, xy=(x, y), xytext=(50, 50), textcoords='offset points', ha='right', va='bottom', \n",
    "                 arrowprops=dict(arrowstyle='-', color='###00b2ca', connectionstyle='arc3,rad=-0.3'))"
   ]
  },
  {
   "cell_type": "markdown",
   "id": "f467e081",
   "metadata": {},
   "source": [
    "Conclusion- The dogecoin was also as risky as bitconnect in the past"
   ]
  },
  {
   "cell_type": "markdown",
   "id": "5429c629",
   "metadata": {},
   "source": [
    "From the graphs we can clearly observe that Ethereum, and Bitcoin are quite a lot safer than Dogecoin and Bitconnect.The reason is why they are surviving the fall in 2018 and will survive through current dip in price too. The fall of dogecoin is inevitable. Although Dogecoin is not a scam. But the cultural structure of dogecoin digs a grave for itself."
   ]
  },
  {
   "cell_type": "code",
   "execution_count": null,
   "id": "71cd2638",
   "metadata": {},
   "outputs": [],
   "source": []
  }
 ],
 "metadata": {
  "kernelspec": {
   "display_name": "Python 3 (ipykernel)",
   "language": "python",
   "name": "python3"
  },
  "language_info": {
   "codemirror_mode": {
    "name": "ipython",
    "version": 3
   },
   "file_extension": ".py",
   "mimetype": "text/x-python",
   "name": "python",
   "nbconvert_exporter": "python",
   "pygments_lexer": "ipython3",
   "version": "3.9.12"
  }
 },
 "nbformat": 4,
 "nbformat_minor": 5
}
